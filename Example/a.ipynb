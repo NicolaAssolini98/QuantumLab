{
 "cells": [
  {
   "cell_type": "code",
   "execution_count": 1,
   "outputs": [],
   "source": [
    "from qiskit import ClassicalRegister\n",
    "import numpy as np\n",
    "\n",
    "from qiskit.quantum_info.states.random import random_statevector\n",
    "from qiskit.quantum_info import Operator, Statevector\n",
    "from qiskit import QuantumCircuit, QuantumRegister\n",
    "from qiskit.primitives import Sampler, Estimator\n",
    "from qiskit.visualization import plot_histogram\n",
    "\n",
    "        "
   ],
   "metadata": {
    "collapsed": false,
    "ExecuteTime": {
     "end_time": "2024-03-05T15:03:40.874969500Z",
     "start_time": "2024-03-05T15:03:40.453110700Z"
    }
   },
   "id": "initial_id"
  },
  {
   "cell_type": "code",
   "execution_count": 2,
   "outputs": [],
   "source": [
    "\n",
    "def u_a2(power):\n",
    "    \"\"\"\n",
    "    U|y> = |y2^power mod 7>\n",
    "    \"\"\"\n",
    "    u = QuantumCircuit(3)\n",
    "    for iteration in range(power):\n",
    "        u.swap(0, 1)\n",
    "        u.swap(1, 2)\n",
    "    u = u.to_gate()\n",
    "    u.name = \"2^%i mod 7\" % power\n",
    "\n",
    "    return u.control()\n",
    "\n",
    "\n",
    "def create_bell_circuit():\n",
    "    bell_circuit = QuantumCircuit(2, name='bell')\n",
    "    bell_circuit.h(0)\n",
    "    bell_circuit.cx(0, 1)\n",
    "    return bell_circuit\n"
   ],
   "metadata": {
    "collapsed": false,
    "ExecuteTime": {
     "end_time": "2024-03-05T15:03:41.845158700Z",
     "start_time": "2024-03-05T15:03:41.829334800Z"
    }
   },
   "id": "645dcb4abdc0fee5"
  },
  {
   "cell_type": "code",
   "execution_count": 3,
   "outputs": [
    {
     "data": {
      "text/plain": "<Figure size 880.986x451.5 with 1 Axes>",
      "image/png": "[encoded data removed]"
     },
     "execution_count": 3,
     "metadata": {},
     "output_type": "execute_result"
    }
   ],
   "source": [
    "qr = QuantumRegister(3, 'q')\n",
    "crx = ClassicalRegister(1, 'crx')\n",
    "crz = ClassicalRegister(1, 'crz')\n",
    "qc = QuantumCircuit(qr, crx, crz)\n",
    "# Use to initialize qubit psi di Alice\n",
    "psi = random_statevector(2).data\n",
    "qc.initialize(psi, qr[0])\n",
    "qc.draw()\n",
    "qc.append(create_bell_circuit(), [qr[1], qr[2]])\n",
    "qc.draw()\n",
    "# show composed circuits\n",
    "qc.decompose().draw()\n",
    "\n",
    "qc.cx(qr[0], qr[1])\n",
    "qc.h(qr[0])\n",
    "qc.draw()\n",
    "\n",
    "qc.measure(qr[0], crz)\n",
    "qc.measure(qr[1], crx)\n",
    "qc.draw()\n",
    "\n",
    "qc.x(qr[2]).c_if(crx, 1)\n",
    "qc.z(qr[2]).c_if(crz, 1)\n",
    "qc.draw('mpl')\n",
    "\n",
    "# TODO: use sampler\n",
    "# initialize sampler\n",
    "\n",
    "\n",
    "# print statevector\n",
    "#Statevector(qc_dm)"
   ],
   "metadata": {
    "collapsed": false,
    "ExecuteTime": {
     "end_time": "2024-03-05T15:03:44.691748200Z",
     "start_time": "2024-03-05T15:03:44.192382700Z"
    }
   },
   "id": "99e0bf79e68a83a3"
  },
  {
   "cell_type": "markdown",
   "source": [
    "Show matrix representation of the circuit"
   ],
   "metadata": {
    "collapsed": false
   },
   "id": "88ac5513ac1794e7"
  },
  {
   "cell_type": "code",
   "execution_count": 68,
   "outputs": [
    {
     "ename": "KeyboardInterrupt",
     "evalue": "",
     "output_type": "error",
     "traceback": [
      "\u001B[1;31m---------------------------------------------------------------------------\u001B[0m",
      "\u001B[1;31mKeyboardInterrupt\u001B[0m                         Traceback (most recent call last)",
      "Cell \u001B[1;32mIn[68], line 6\u001B[0m\n\u001B[0;32m      4\u001B[0m Operator(CXGate())\n\u001B[0;32m      5\u001B[0m Operator(HGate())\n\u001B[1;32m----> 6\u001B[0m \u001B[43mXX\u001B[49m\n",
      "File \u001B[1;32m_pydevd_bundle\\\\pydevd_cython_win32_312_64.pyx:1179\u001B[0m, in \u001B[0;36m_pydevd_bundle.pydevd_cython_win32_312_64.SafeCallWrapper.__call__\u001B[1;34m()\u001B[0m\n",
      "File \u001B[1;32m_pydevd_bundle\\\\pydevd_cython_win32_312_64.pyx:620\u001B[0m, in \u001B[0;36m_pydevd_bundle.pydevd_cython_win32_312_64.PyDBFrame.trace_dispatch\u001B[1;34m()\u001B[0m\n",
      "File \u001B[1;32m_pydevd_bundle\\\\pydevd_cython_win32_312_64.pyx:929\u001B[0m, in \u001B[0;36m_pydevd_bundle.pydevd_cython_win32_312_64.PyDBFrame.trace_dispatch\u001B[1;34m()\u001B[0m\n",
      "File \u001B[1;32m_pydevd_bundle\\\\pydevd_cython_win32_312_64.pyx:920\u001B[0m, in \u001B[0;36m_pydevd_bundle.pydevd_cython_win32_312_64.PyDBFrame.trace_dispatch\u001B[1;34m()\u001B[0m\n",
      "File \u001B[1;32m_pydevd_bundle\\\\pydevd_cython_win32_312_64.pyx:317\u001B[0m, in \u001B[0;36m_pydevd_bundle.pydevd_cython_win32_312_64.PyDBFrame.do_wait_suspend\u001B[1;34m()\u001B[0m\n",
      "File \u001B[1;32mC:\\Program Files\\JetBrains\\PyCharm 2023.2.5\\plugins\\python\\helpers\\pydev\\pydevd.py:1160\u001B[0m, in \u001B[0;36mPyDB.do_wait_suspend\u001B[1;34m(self, thread, frame, event, arg, send_suspend_message, is_unhandled_exception)\u001B[0m\n\u001B[0;32m   1157\u001B[0m         from_this_thread\u001B[38;5;241m.\u001B[39mappend(frame_id)\n\u001B[0;32m   1159\u001B[0m \u001B[38;5;28;01mwith\u001B[39;00m \u001B[38;5;28mself\u001B[39m\u001B[38;5;241m.\u001B[39m_threads_suspended_single_notification\u001B[38;5;241m.\u001B[39mnotify_thread_suspended(thread_id, stop_reason):\n\u001B[1;32m-> 1160\u001B[0m     \u001B[38;5;28;43mself\u001B[39;49m\u001B[38;5;241;43m.\u001B[39;49m\u001B[43m_do_wait_suspend\u001B[49m\u001B[43m(\u001B[49m\u001B[43mthread\u001B[49m\u001B[43m,\u001B[49m\u001B[43m \u001B[49m\u001B[43mframe\u001B[49m\u001B[43m,\u001B[49m\u001B[43m \u001B[49m\u001B[43mevent\u001B[49m\u001B[43m,\u001B[49m\u001B[43m \u001B[49m\u001B[43marg\u001B[49m\u001B[43m,\u001B[49m\u001B[43m \u001B[49m\u001B[43msuspend_type\u001B[49m\u001B[43m,\u001B[49m\u001B[43m \u001B[49m\u001B[43mfrom_this_thread\u001B[49m\u001B[43m)\u001B[49m\n",
      "File \u001B[1;32mC:\\Program Files\\JetBrains\\PyCharm 2023.2.5\\plugins\\python\\helpers\\pydev\\pydevd.py:1175\u001B[0m, in \u001B[0;36mPyDB._do_wait_suspend\u001B[1;34m(self, thread, frame, event, arg, suspend_type, from_this_thread)\u001B[0m\n\u001B[0;32m   1172\u001B[0m             \u001B[38;5;28mself\u001B[39m\u001B[38;5;241m.\u001B[39m_call_mpl_hook()\n\u001B[0;32m   1174\u001B[0m         \u001B[38;5;28mself\u001B[39m\u001B[38;5;241m.\u001B[39mprocess_internal_commands()\n\u001B[1;32m-> 1175\u001B[0m         \u001B[43mtime\u001B[49m\u001B[38;5;241;43m.\u001B[39;49m\u001B[43msleep\u001B[49m\u001B[43m(\u001B[49m\u001B[38;5;241;43m0.01\u001B[39;49m\u001B[43m)\u001B[49m\n\u001B[0;32m   1177\u001B[0m \u001B[38;5;28mself\u001B[39m\u001B[38;5;241m.\u001B[39mcancel_async_evaluation(get_current_thread_id(thread), \u001B[38;5;28mstr\u001B[39m(\u001B[38;5;28mid\u001B[39m(frame)))\n\u001B[0;32m   1179\u001B[0m \u001B[38;5;66;03m# process any stepping instructions\u001B[39;00m\n",
      "\u001B[1;31mKeyboardInterrupt\u001B[0m: "
     ]
    }
   ],
   "source": [
    "from qiskit.circuit.library import CXGate, HGate\n",
    "\n",
    "XX = Operator([[0, 0, 0, 1], [0, 0, 1, 0], [0, 1, 0, 0], [1, 0, 0, 0]])\n",
    "Operator(CXGate())\n",
    "Operator(HGate())\n",
    "XX"
   ],
   "metadata": {
    "collapsed": false,
    "ExecuteTime": {
     "end_time": "2024-03-05T14:55:59.462833900Z",
     "start_time": "2024-03-05T14:55:24.713760200Z"
    }
   },
   "id": "3028d9d3dffe3737"
  },
  {
   "cell_type": "code",
   "execution_count": 77,
   "outputs": [
    {
     "data": {
      "text/plain": "(4, 4)"
     },
     "execution_count": 77,
     "metadata": {},
     "output_type": "execute_result"
    }
   ],
   "source": [
    "circ = QuantumCircuit(2)\n",
    "circ.h(0)\n",
    "\n",
    "a = Operator(circ)\n",
    "a.data\n",
    "a.dim"
   ],
   "metadata": {
    "collapsed": false,
    "ExecuteTime": {
     "end_time": "2024-03-05T14:56:35.909323500Z",
     "start_time": "2024-03-05T14:56:35.898943800Z"
    }
   },
   "id": "47416568071d7765"
  },
  {
   "cell_type": "markdown",
   "source": [
    "Using Operators in circuits\n",
    "Unitary Operators can be directly inserted into a QuantumCircuit using the QuantumCircuit.append method. This converts the Operator into a UnitaryGate object, which is added to the circuit.\n",
    "\n",
    "If the operator is not unitary, an exception will be raised. This can be checked using the Operator.is_unitary() function, which will return True if the operator is unitary and False otherwise.\n"
   ],
   "metadata": {
    "collapsed": false
   },
   "id": "d0e88945e99ba7de"
  },
  {
   "cell_type": "code",
   "execution_count": null,
   "outputs": [],
   "source": [],
   "metadata": {
    "collapsed": false
   },
   "id": "70ad42c50eb71ec"
  },
  {
   "cell_type": "code",
   "execution_count": 83,
   "outputs": [
    {
     "data": {
      "text/plain": "     ┌──────────┐┌─┐   \nq_0: ┤0         ├┤M├───\n     │  Unitary │└╥┘┌─┐\nq_1: ┤1         ├─╫─┤M├\n     └──────────┘ ║ └╥┘\nc: 2/═════════════╩══╩═\n                  0  1 ",
      "text/html": "<pre style=\"word-wrap: normal;white-space: pre;background: #fff0;line-height: 1.1;font-family: &quot;Courier New&quot;,Courier,monospace\">     ┌──────────┐┌─┐   \nq_0: ┤0         ├┤M├───\n     │  Unitary │└╥┘┌─┐\nq_1: ┤1         ├─╫─┤M├\n     └──────────┘ ║ └╥┘\nc: 2/═════════════╩══╩═\n                  0  1 </pre>"
     },
     "execution_count": 83,
     "metadata": {},
     "output_type": "execute_result"
    }
   ],
   "source": [
    "# Create an operator\n",
    " \n",
    "# Add to a circuit\n",
    "circ = QuantumCircuit(2, 2)\n",
    "circ.append(XX, [0, 1])\n",
    "circ.measure([0,1], [0,1])\n",
    "#circ.draw('mpl')\n",
    "circ.draw()"
   ],
   "metadata": {
    "collapsed": false,
    "ExecuteTime": {
     "end_time": "2024-03-05T14:59:42.161851500Z",
     "start_time": "2024-03-05T14:59:42.155232100Z"
    }
   },
   "id": "522782dcf4b7903f"
  },
  {
   "cell_type": "code",
   "execution_count": 84,
   "outputs": [
    {
     "data": {
      "text/plain": "     ┌───┐     ┌─┐   \nq_0: ┤ H ├──■──┤M├───\n     └───┘┌─┴─┐└╥┘┌─┐\nq_1: ─────┤ X ├─╫─┤M├\n          └───┘ ║ └╥┘\nc: 2/═══════════╩══╩═\n                0  1 ",
      "text/html": "<pre style=\"word-wrap: normal;white-space: pre;background: #fff0;line-height: 1.1;font-family: &quot;Courier New&quot;,Courier,monospace\">     ┌───┐     ┌─┐   \nq_0: ┤ H ├──■──┤M├───\n     └───┘┌─┴─┐└╥┘┌─┐\nq_1: ─────┤ X ├─╫─┤M├\n          └───┘ ║ └╥┘\nc: 2/═══════════╩══╩═\n                0  1 </pre>"
     },
     "execution_count": 84,
     "metadata": {},
     "output_type": "execute_result"
    }
   ],
   "source": [
    "import qiskit.qasm2\n",
    "program = '''\n",
    "    OPENQASM 2.0;\n",
    "    include \"qelib1.inc\";\n",
    "    qreg q[2];\n",
    "    creg c[2];\n",
    " \n",
    "    h q[0];\n",
    "    cx q[0], q[1];\n",
    " \n",
    "    measure q -> c;\n",
    "'''\n",
    "circuit = qiskit.qasm2.loads(program)\n",
    "circuit.draw()"
   ],
   "metadata": {
    "collapsed": false,
    "ExecuteTime": {
     "end_time": "2024-03-05T15:01:48.327990500Z",
     "start_time": "2024-03-05T15:01:47.864576600Z"
    }
   },
   "id": "ca77dde8252c959b"
  },
  {
   "cell_type": "code",
   "execution_count": 15,
   "outputs": [
    {
     "name": "stdout",
     "output_type": "stream",
     "text": [
      "{0: 0.25, 1: 0.244, 2: 0.251, 3: 0.255}\n"
     ]
    },
    {
     "data": {
      "text/plain": "<Figure size 700x500 with 1 Axes>",
      "image/png": "[encoded data removed]"
     },
     "execution_count": 15,
     "metadata": {},
     "output_type": "execute_result"
    }
   ],
   "source": [
    "\"\"\"\n",
    "verifichiamo che spostando la misurazione in fondo, e controllando x e z con bit quantistico, il risultato sia uguale\n",
    "\"\"\"\n",
    "qr_dm = QuantumRegister(3, 'q')\n",
    "crx_dm = ClassicalRegister(1, 'crx')\n",
    "crz_dm = ClassicalRegister(1, 'crz')\n",
    "qc_dm = QuantumCircuit(qr_dm, crx_dm, crz_dm)\n",
    "qc_dm.initialize(psi, qr[0])\n",
    "qc_dm.append(create_bell_circuit(), [qr[1], qr[2]])\n",
    "qc_dm.cx(qr[0], qr[1])\n",
    "qc_dm.h(qr[0])\n",
    "\n",
    "# sposto misurazioni e x,z diventano cx e cz\n",
    "qc_dm.cx(qr[0], qr[2])\n",
    "qc_dm.cz(qr[1], qr[2])\n",
    "qc_dm.measure(qr[0], crz_dm)\n",
    "qc_dm.measure(qr[1], crx_dm)\n",
    "qc_dm.draw()\n",
    "\n",
    "# TODO: use sampler\n",
    "sampler = Sampler()\n",
    "counts = sampler.run(\n",
    "    qc_dm,\n",
    "    #shots=None\n",
    "    shots=1000\n",
    ").result().quasi_dists[0]\n",
    "print(counts)\n",
    "\n",
    "plot_histogram(counts)\n",
    "\n",
    "\n"
   ],
   "metadata": {
    "collapsed": false,
    "ExecuteTime": {
     "end_time": "2024-03-05T15:26:06.174735200Z",
     "start_time": "2024-03-05T15:26:06.108045700Z"
    }
   },
   "id": "85ab69814dd7637a"
  },
  {
   "cell_type": "code",
   "execution_count": 16,
   "outputs": [
    {
     "data": {
      "text/plain": "array([[ 0.5+0.j,  0.5+0.j,  0.5+0.j,  0.5+0.j,  0. +0.j,  0. +0.j,\n         0. +0.j,  0. +0.j],\n       [ 0.5+0.j, -0.5+0.j,  0.5+0.j, -0.5+0.j,  0. +0.j,  0. +0.j,\n         0. +0.j,  0. +0.j],\n       [ 0. +0.j,  0. +0.j,  0. +0.j,  0. +0.j,  0.5+0.j,  0.5+0.j,\n        -0.5+0.j, -0.5+0.j],\n       [ 0. +0.j,  0. +0.j,  0. +0.j,  0. +0.j,  0.5+0.j, -0.5+0.j,\n        -0.5+0.j,  0.5+0.j],\n       [ 0. +0.j,  0. +0.j,  0. +0.j,  0. +0.j,  0.5+0.j,  0.5+0.j,\n         0.5+0.j,  0.5+0.j],\n       [ 0. +0.j,  0. +0.j,  0. +0.j,  0. +0.j,  0.5+0.j, -0.5+0.j,\n         0.5+0.j, -0.5+0.j],\n       [ 0.5+0.j,  0.5+0.j, -0.5+0.j, -0.5+0.j,  0. +0.j,  0. +0.j,\n         0. +0.j,  0. +0.j],\n       [ 0.5+0.j, -0.5+0.j, -0.5+0.j,  0.5+0.j,  0. +0.j,  0. +0.j,\n         0. +0.j,  0. +0.j]])"
     },
     "execution_count": 16,
     "metadata": {},
     "output_type": "execute_result"
    }
   ],
   "source": [
    "from qiskit import QuantumCircuit\n",
    "qc = QuantumCircuit(3)\n",
    "qc.h(0)\n",
    "qc.h(1)\n",
    "qc.cx(1, 2)\n",
    "qc.measure_all()\n",
    " \n",
    "# Current\n",
    "qc.remove_final_measurements()  # no measurements allowed\n",
    "from qiskit.quantum_info import Operator\n",
    "result = Operator(qc).data\n",
    "result"
   ],
   "metadata": {
    "collapsed": false,
    "ExecuteTime": {
     "end_time": "2024-03-05T15:32:40.708277800Z",
     "start_time": "2024-03-05T15:32:40.698954300Z"
    }
   },
   "id": "bb946aa81bd6d6b9"
  },
  {
   "cell_type": "code",
   "execution_count": 18,
   "outputs": [
    {
     "name": "stdout",
     "output_type": "stream",
     "text": [
      "Statevector([0.5+0.j, 0.5+0.j, 0. +0.j, 0. +0.j, 0. +0.j, 0. +0.j, 0.5+0.j,\n",
      "             0.5+0.j],\n",
      "            dims=(2, 2, 2))\n"
     ]
    }
   ],
   "source": [
    " \n",
    "qc = QuantumCircuit(3)\n",
    "qc.h(0)\n",
    "qc.h(1)\n",
    "qc.cx(1, 2)\n",
    "qc.measure_all()\n",
    "\n",
    "# Current\n",
    "qc.remove_final_measurements()  # no measurements allowed\n",
    "from qiskit.quantum_info import Statevector\n",
    "statevector = Statevector(qc)\n",
    "statevector"
   ],
   "metadata": {
    "collapsed": false,
    "ExecuteTime": {
     "end_time": "2024-03-05T15:33:04.271585900Z",
     "start_time": "2024-03-05T15:33:04.264210500Z"
    }
   },
   "id": "6a60b92eb072d37"
  },
  {
   "cell_type": "code",
   "execution_count": 18,
   "outputs": [],
   "source": [
    "qc = QuantumCircuit(5)\n",
    "qc.h(0)\n",
    "qc.cx(0, range(1, 5))\n",
    "qc.measure_all()"
   ],
   "metadata": {
    "collapsed": false,
    "ExecuteTime": {
     "end_time": "2024-03-05T14:12:35.302560800Z",
     "start_time": "2024-03-05T14:12:35.298561100Z"
    }
   },
   "id": "4d319bfa2f1424de"
  }
 ],
 "metadata": {
  "kernelspec": {
   "display_name": "Python 3",
   "language": "python",
   "name": "python3"
  },
  "language_info": {
   "codemirror_mode": {
    "name": "ipython",
    "version": 2
   },
   "file_extension": ".py",
   "mimetype": "text/x-python",
   "name": "python",
   "nbconvert_exporter": "python",
   "pygments_lexer": "ipython2",
   "version": "2.7.6"
  }
 },
 "nbformat": 4,
 "nbformat_minor": 5
}
