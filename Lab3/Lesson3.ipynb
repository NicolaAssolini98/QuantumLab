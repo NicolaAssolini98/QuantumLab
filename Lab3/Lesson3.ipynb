{
 "cells": [
  {
   "cell_type": "markdown",
   "id": "b83628e85bf42e2b",
   "metadata": {
    "collapsed": false,
    "jupyter": {
     "outputs_hidden": false
    }
   },
   "source": [
    "# Quantum Circuit, Boolean Functions and Universality"
   ]
  },
  {
   "cell_type": "markdown",
   "id": "df9d6d03-56b7-44a3-9242-bcdb0c8ab3e4",
   "metadata": {
    "ExecuteTime": {
     "end_time": "2024-04-04T13:35:26.986955Z",
     "start_time": "2024-04-04T13:35:25.439715Z"
    },
    "collapsed": false,
    "jupyter": {
     "outputs_hidden": false
    }
   },
   "source": [
    "#### 1.  Implement a Boolean Function\n",
    "Let $f : \\{0, 1\\}^n \\rightarrow \\{0, 1\\}$ be a Boolean function that takes $n$ bits as input.\n",
    "\n",
    "We can build a reversible circuit $C_f$ that takes $n + 1$ input qubits (the first $n$ are input to $f$) and returns $n + 1$ output qubits (the first $n$ are identical with the first $n$ qubits of the input), where $C_f : |x, y \\rangle \\rightarrow |x, y \\oplus f(x)\\rangle$. \n",
    "\n",
    "\n",
    "<img src=\"Image/img.png\" width=350 />\n",
    "\n",
    "\n",
    "\n",
    "Let's consider $f: \\{0, 1\\}^3 \\rightarrow \\{0, 1\\}$ such that $f(x,y,z) = \\neg(x \\wedge y) \\wedge z $, build the circuit corresponding to $C_f$\n"
   ]
  },
  {
   "cell_type": "code",
   "execution_count": 1,
   "id": "b17e0345-e2b3-441a-8cc7-4a59a21abe76",
   "metadata": {
    "ExecuteTime": {
     "end_time": "2024-04-05T14:29:19.922708Z",
     "start_time": "2024-04-05T14:29:18.651669Z"
    }
   },
   "outputs": [],
   "source": [
    "from qiskit import QuantumCircuit, QuantumRegister, ClassicalRegister"
   ]
  },
  {
   "cell_type": "code",
   "execution_count": 2,
   "id": "5cdc7a9429be4cb",
   "metadata": {
    "ExecuteTime": {
     "end_time": "2024-04-04T13:35:27.930579Z",
     "start_time": "2024-04-04T13:35:26.989190Z"
    },
    "collapsed": false,
    "jupyter": {
     "outputs_hidden": false
    }
   },
   "outputs": [],
   "source": [
    "#TODO\n"
   ]
  },
  {
   "cell_type": "markdown",
   "id": "706cf93316e358d1",
   "metadata": {
    "collapsed": false,
    "jupyter": {
     "outputs_hidden": false
    }
   },
   "source": [
    "#### 2.  Reset Workspace Qubits\n",
    "\n",
    "In the previous circuit we have used some extra workspace qubits.\n",
    "\n",
    "In classical computing, we can discard redundant information to free up memory for other tasks without affecting results.  \n",
    "In quantum computing, though, discarding correlated information can significantly alter computation results.\n",
    "In fact, discard or overwrite a variable means measure it\n"
   ]
  },
  {
   "cell_type": "code",
   "execution_count": 3,
   "id": "5c4b685410a3b448",
   "metadata": {
    "collapsed": false,
    "jupyter": {
     "outputs_hidden": false
    }
   },
   "outputs": [],
   "source": [
    "# TODO verifies this on the previous exercise"
   ]
  },
  {
   "cell_type": "markdown",
   "id": "c18511111c17b6e3",
   "metadata": {
    "collapsed": false,
    "jupyter": {
     "outputs_hidden": false
    }
   },
   "source": [
    "To discard or reuse some qubits without side effects we need to reset their value, exploiting the reversible nature of quantum computation.\n",
    "With boolean functions, this can be done automatically by the following circuit:\n",
    "\n",
    "<img src=\"Image/img_1.png\" width=500 />\n",
    "\n",
    "The block labelled $C_f$ represents the function circuit. \n",
    "Then we copy the output $y = f(x)$ to another register. \n",
    "Finally, run the circuit for $C_f$ backwards (replacing each gate by its inverse gate) to erase the contents of the output and workspace registers.\n",
    "\n",
    "Now implement the circuit in figure considering $C_f$ from the previous exercise"
   ]
  },
  {
   "cell_type": "markdown",
   "id": "c52ed571ea4169",
   "metadata": {
    "collapsed": false,
    "jupyter": {
     "outputs_hidden": false
    }
   },
   "source": [
    "##### Hint\n",
    "In qiskit `QuantumCircuit()` has the `.inverse()` methods to automatically compute the inverse of a circuit (i.e. to execute if backwards)"
   ]
  },
  {
   "cell_type": "code",
   "execution_count": 4,
   "id": "c4193b1434f0c969",
   "metadata": {
    "collapsed": false,
    "jupyter": {
     "outputs_hidden": false
    }
   },
   "outputs": [
    {
     "data": {
      "image/png": "[encoded data removed]",
      "text/plain": [
       "<Figure size 287.496x284.278 with 1 Axes>"
      ]
     },
     "execution_count": 4,
     "metadata": {},
     "output_type": "execute_result"
    }
   ],
   "source": [
    "from math import pi\n",
    "\n",
    "qc = QuantumCircuit(3)\n",
    "\n",
    "qc.ry(pi/4,0)\n",
    "qc.h(1)\n",
    "qc.cx(0,2)\n",
    "qc.draw('mpl')"
   ]
  },
  {
   "cell_type": "code",
   "execution_count": 5,
   "id": "935e66dacd22342",
   "metadata": {
    "ExecuteTime": {
     "end_time": "2024-04-05T14:35:43.537716Z",
     "start_time": "2024-04-05T14:35:43.476327Z"
    },
    "collapsed": false,
    "jupyter": {
     "outputs_hidden": false
    }
   },
   "outputs": [
    {
     "data": {
      "image/png": "[encoded data removed]",
      "text/plain": [
       "<Figure size 287.496x284.278 with 1 Axes>"
      ]
     },
     "execution_count": 5,
     "metadata": {},
     "output_type": "execute_result"
    }
   ],
   "source": [
    "qc2 = qc.inverse()\n",
    "qc2.draw('mpl')"
   ]
  },
  {
   "cell_type": "code",
   "execution_count": 6,
   "id": "46eff6a59d514237",
   "metadata": {
    "ExecuteTime": {
     "end_time": "2024-04-05T14:35:02.795141Z",
     "start_time": "2024-04-05T14:35:02.792759Z"
    },
    "collapsed": false,
    "jupyter": {
     "outputs_hidden": false
    }
   },
   "outputs": [],
   "source": [
    "# TODO implement the circuit that reset the workspace qubits\n",
    "\n"
   ]
  },
  {
   "cell_type": "markdown",
   "id": "2dac66f5b28051b1",
   "metadata": {
    "collapsed": false,
    "jupyter": {
     "outputs_hidden": false
    }
   },
   "source": [
    "#### 3. Rotation Gates\n",
    "\n",
    "The exponential of the Pauli matrices gives rise to three classes of unitary matrices, namely the rotation operators about the $x$, $y$, and $z$ axes, defined by:\n",
    "\n",
    "$$\n",
    "R_x(θ) ≡ e^{-iθσ_x/2} = cos(θ/2)I - isin(θ/2)σ_x = \\begin{bmatrix} cos(θ/2) & -isin(θ/2)\\\\\n",
    "                                                                   -isin(θ/2) & cos(θ/2) \\end{bmatrix}                                                  \n",
    "$$\n",
    "\n",
    "\n",
    "\n",
    "$$\n",
    "R_y(θ) ≡ e^{-iθσ_y/2} = cos(θ/2)I - isin(θ/2)σ_y = \\begin{bmatrix} cos(θ/2) & -sin(θ/2)\\\\\n",
    "                                                                    sin(θ/2) & cos(θ/2) \\end{bmatrix}\n",
    "$$\n",
    "\n",
    "$$\n",
    "R_z(θ) ≡ e^{-iθσ_z/2} = cos(θ/2)I - isin(θ/2)σ_z = \\begin{bmatrix} e^{-iθ/2} & 0 \\\\\n",
    "                                                                   0 & e^{iθ/2}  \\end{bmatrix}\n",
    "$$\n",
    "\n",
    "Show that the Hadamard gate $H$ can be expressed as a product of $R_x$ and $R_z$ and $e^{i\\phi}$ for some $\\phi$.\n"
   ]
  },
  {
   "cell_type": "code",
   "execution_count": 7,
   "id": "48504efe553fc8c5",
   "metadata": {
    "ExecuteTime": {
     "end_time": "2024-04-05T14:52:24.442974Z",
     "start_time": "2024-04-05T14:52:24.439636Z"
    },
    "collapsed": false,
    "jupyter": {
     "outputs_hidden": false
    }
   },
   "outputs": [],
   "source": [
    "# TODO implement the circuit and verify that the result"
   ]
  },
  {
   "cell_type": "markdown",
   "id": "99bc683869009",
   "metadata": {
    "collapsed": false,
    "jupyter": {
     "outputs_hidden": false
    }
   },
   "source": [
    "#### 4. Universality\n",
    "##### 1\n",
    " \n",
    "If for a single qubit unitary operation $U$ we have $U = V^2$ where V is another single qubit unitary operation, then the double controlled $U$ gate, called $CCU$ gate, can be implemented as: \n",
    "\n",
    "<img src=\"Image/img_2.png\" width=600 />\n",
    "\n",
    "\n",
    "Show that for $V = (1 — i)(I + iX)/2$, $CCU$ implements the Toffoli gate.\n",
    " "
   ]
  },
  {
   "cell_type": "code",
   "execution_count": 8,
   "id": "3a992d56b98e38a3",
   "metadata": {
    "ExecuteTime": {
     "end_time": "2024-04-05T15:14:14.951651Z",
     "start_time": "2024-04-05T15:14:14.948297Z"
    },
    "collapsed": false,
    "jupyter": {
     "outputs_hidden": false
    }
   },
   "outputs": [],
   "source": [
    "# TODO use Operator class"
   ]
  },
  {
   "cell_type": "markdown",
   "id": "adc8c38fa7ba8464",
   "metadata": {
    "collapsed": false,
    "jupyter": {
     "outputs_hidden": false
    }
   },
   "source": [
    "\n",
    "\n",
    "\n",
    "##### 2 \n",
    "Check that:\n",
    "1. $XYX = —Y$ and $XZX = —Z$;  \n",
    "2. $XR_y(θ)X = R_y(-θ)$ and XR_z(θ)X = R_z(-θ). \n",
    "\n"
   ]
  },
  {
   "cell_type": "code",
   "execution_count": 9,
   "id": "aa088e5d1bf81451",
   "metadata": {
    "ExecuteTime": {
     "end_time": "2024-04-05T15:14:11.982047Z",
     "start_time": "2024-04-05T15:14:11.978524Z"
    },
    "collapsed": false,
    "jupyter": {
     "outputs_hidden": false
    }
   },
   "outputs": [],
   "source": [
    "# TODO"
   ]
  }
 ],
 "metadata": {
  "kernelspec": {
   "display_name": "Python 3 (ipykernel)",
   "language": "python",
   "name": "python3"
  },
  "language_info": {
   "codemirror_mode": {
    "name": "ipython",
    "version": 3
   },
   "file_extension": ".py",
   "mimetype": "text/x-python",
   "name": "python",
   "nbconvert_exporter": "python",
   "pygments_lexer": "ipython3",
   "version": "3.12.2"
  }
 },
 "nbformat": 4,
 "nbformat_minor": 5
}
