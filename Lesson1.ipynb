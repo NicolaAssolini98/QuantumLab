{
 "cells": [
  {
   "cell_type": "markdown",
   "id": "8c6673369d8ba5f0",
   "metadata": {
    "collapsed": false,
    "jupyter": {
     "outputs_hidden": false
    }
   },
   "source": [
    "### IBM Learning\n",
    "\n",
    "To try and visualize circuit, I suggest the [Composer](https://learning.quantum.ibm.com/)\n",
    "\n",
    "Other tutorial and information on Qiskit are available on [IBM Learning](https://learning.quantum.ibm.com/) and on Qiskit [webpage](https://www.ibm.com/quantum/qiskit)\n",
    "\n",
    "### Install and set up Qiskit\n",
    "https://docs.quantum.ibm.com/start/install\n",
    "\n",
    "```console\n",
    "!pip install qiskit\n",
    "!pip install qiskit-ibm-runtime\n",
    "```\n",
    "\n",
    "If you intend to use visualization functionality or Jupyter notebooks, it is recommended to install Qiskit with the extra visualization support. Note that zsh users need to put 'qiskit[visualization]' in single quotes.\n",
    "\n",
    "\n",
    "```console\n",
    "!pip install 'qiskit[visualization]'\n",
    "```\n"
   ]
  },
  {
   "cell_type": "code",
   "execution_count": null,
   "id": "d612c70b-188b-48eb-83e7-e24d3280fbb7",
   "metadata": {},
   "outputs": [],
   "source": []
  },
  {
   "cell_type": "markdown",
   "id": "5f6270dcf77aa08a",
   "metadata": {
    "collapsed": false,
    "jupyter": {
     "outputs_hidden": false
    }
   },
   "source": [
    "#### Check your installation"
   ]
  },
  {
   "cell_type": "code",
   "execution_count": 2,
   "id": "ad4d58c0a0bf5e2",
   "metadata": {
    "ExecuteTime": {
     "end_time": "2024-03-11T13:25:50.814103200Z",
     "start_time": "2024-03-11T13:25:49.349163300Z"
    },
    "collapsed": false,
    "jupyter": {
     "outputs_hidden": false
    }
   },
   "outputs": [
    {
     "data": {
      "text/plain": [
       "'1.0.1'"
      ]
     },
     "execution_count": 2,
     "metadata": {},
     "output_type": "execute_result"
    }
   ],
   "source": [
    "import qiskit\n",
    "qiskit.__version__"
   ]
  },
  {
   "cell_type": "markdown",
   "id": "93657266c6b1767e",
   "metadata": {
    "collapsed": false,
    "jupyter": {
     "outputs_hidden": false
    }
   },
   "source": [
    "#### Circuit building\n",
    "\n",
    "When creating a circuit, you'll usually create a new ```QuantumCircuit``` object, then add instructions to it in sequence."
   ]
  },
  {
   "cell_type": "code",
   "execution_count": 3,
   "id": "initial_id",
   "metadata": {
    "ExecuteTime": {
     "end_time": "2024-03-11T13:52:05.217799700Z",
     "start_time": "2024-03-11T13:52:05.186173500Z"
    },
    "collapsed": false,
    "jupyter": {
     "outputs_hidden": false
    }
   },
   "outputs": [],
   "source": [
    "from qiskit import QuantumCircuit\n",
    "\n",
    "numQubit = 2\n",
    "numBit = 2\n",
    "qc = QuantumCircuit(numQubit, numBit)\n"
   ]
  },
  {
   "cell_type": "markdown",
   "id": "6652959c82a168c3",
   "metadata": {
    "collapsed": false,
    "jupyter": {
     "outputs_hidden": false
    }
   },
   "source": [
    "We draw the circuit with the method `draw` of `QuantumCircuit`"
   ]
  },
  {
   "cell_type": "code",
   "execution_count": 4,
   "id": "a813f672a9bd6a68",
   "metadata": {
    "ExecuteTime": {
     "end_time": "2024-03-11T13:52:15.621293500Z",
     "start_time": "2024-03-11T13:52:15.589903100Z"
    },
    "collapsed": false,
    "jupyter": {
     "outputs_hidden": false
    }
   },
   "outputs": [
    {
     "name": "stdout",
     "output_type": "stream",
     "text": [
      "     \n",
      "q_0: \n",
      "     \n",
      "q_1: \n",
      "     \n",
      "c: 2/\n",
      "     \n"
     ]
    }
   ],
   "source": [
    "\n",
    "# qc.draw('mpl')\n",
    "a = qc.draw()\n",
    "print(a)"
   ]
  },
  {
   "cell_type": "markdown",
   "id": "e81ebaca5af99cd2",
   "metadata": {
    "collapsed": false,
    "jupyter": {
     "outputs_hidden": false
    }
   },
   "source": [
    "\n",
    "We add the gates (methods of `QuantumCircuit`)\n",
    "  - `.x(qubit)`\n",
    "  - `.h(qubit)`\n",
    "  - `.cx(control qubit, target qubit)`\n",
    "  - `.rx(theta, qubit)`\n",
    "  - `.crx(theta, control qubit, target qubit)`\n"
   ]
  },
  {
   "cell_type": "code",
   "execution_count": 5,
   "id": "f7ad7d4d07c56e44",
   "metadata": {
    "ExecuteTime": {
     "end_time": "2024-03-11T13:52:17.764282400Z",
     "start_time": "2024-03-11T13:52:17.713315800Z"
    },
    "collapsed": false,
    "jupyter": {
     "outputs_hidden": false
    }
   },
   "outputs": [
    {
     "data": {
      "text/html": [
       "<pre style=\"word-wrap: normal;white-space: pre;background: #fff0;line-height: 1.1;font-family: &quot;Courier New&quot;,Courier,monospace\">      ░ ┌───┐┌───┐\n",
       "q_0: ─░─┤ X ├┤ X ├\n",
       "      ░ ├───┤└─┬─┘\n",
       "q_1: ─░─┤ X ├──■──\n",
       "      ░ └───┘     \n",
       "c: 2/═════════════\n",
       "                  </pre>"
      ],
      "text/plain": [
       "      ░ ┌───┐┌───┐\n",
       "q_0: ─░─┤ X ├┤ X ├\n",
       "      ░ ├───┤└─┬─┘\n",
       "q_1: ─░─┤ X ├──■──\n",
       "      ░ └───┘     \n",
       "c: 2/═════════════\n",
       "                  "
      ]
     },
     "execution_count": 5,
     "metadata": {},
     "output_type": "execute_result"
    }
   ],
   "source": [
    "qc.barrier()\n",
    "qc.x(0)\n",
    "qc.x(1)\n",
    "qc.cx(1,0)\n",
    "\n",
    "\n",
    "qc.draw()"
   ]
  },
  {
   "cell_type": "markdown",
   "id": "f5630d6ea1171a96",
   "metadata": {
    "collapsed": false,
    "jupyter": {
     "outputs_hidden": false
    }
   },
   "source": [
    "We add the measurements (method of `QuantumCircuit`)\n",
    "  - `.measure(qubit, cbit)`"
   ]
  },
  {
   "cell_type": "code",
   "execution_count": 10,
   "id": "817e6f40c1962163",
   "metadata": {
    "ExecuteTime": {
     "end_time": "2024-03-11T13:53:53.368736300Z",
     "start_time": "2024-03-11T13:53:53.225240Z"
    },
    "collapsed": false,
    "jupyter": {
     "outputs_hidden": false
    }
   },
   "outputs": [
    {
     "data": {
      "image/png": "[encoded data removed]",
      "text/plain": [
       "<Figure size 788.961x284.278 with 1 Axes>"
      ]
     },
     "execution_count": 10,
     "metadata": {},
     "output_type": "execute_result"
    }
   ],
   "source": [
    "qc.measure(1,1)\n",
    "\n",
    "qc.draw('mpl')"
   ]
  },
  {
   "cell_type": "markdown",
   "id": "d5dec53e0326a00",
   "metadata": {
    "collapsed": false,
    "jupyter": {
     "outputs_hidden": false
    }
   },
   "source": [
    "We can also add classical controlled operation"
   ]
  },
  {
   "cell_type": "code",
   "execution_count": 11,
   "id": "bff1ddcd9fc8a572",
   "metadata": {
    "ExecuteTime": {
     "end_time": "2024-03-11T13:54:21.267602200Z",
     "start_time": "2024-03-11T13:54:21.053460600Z"
    },
    "collapsed": false,
    "jupyter": {
     "outputs_hidden": false
    }
   },
   "outputs": [
    {
     "data": {
      "image/png": "[encoded data removed]",
      "text/plain": [
       "<Figure size 956.183x284.278 with 1 Axes>"
      ]
     },
     "execution_count": 11,
     "metadata": {},
     "output_type": "execute_result"
    }
   ],
   "source": [
    "qc.h(0).c_if(0,1)\n",
    "qc.x(1).c_if(1,0)\n",
    "\n",
    "qc.draw('mpl')"
   ]
  },
  {
   "cell_type": "markdown",
   "id": "8c738128d94be398",
   "metadata": {
    "collapsed": false,
    "jupyter": {
     "outputs_hidden": false
    }
   },
   "source": [
    "Quantum bits can be referred to by names, using `QuantumRegister` `ClassicalRegister`"
   ]
  },
  {
   "cell_type": "code",
   "execution_count": 13,
   "id": "7b23f92ee9d3ce6a",
   "metadata": {
    "ExecuteTime": {
     "end_time": "2024-03-11T13:58:32.781721900Z",
     "start_time": "2024-03-11T13:58:32.578736500Z"
    },
    "collapsed": false,
    "jupyter": {
     "outputs_hidden": false
    }
   },
   "outputs": [
    {
     "data": {
      "image/png": "[encoded data removed]",
      "text/plain": [
       "<Figure size 586.204x367.889 with 1 Axes>"
      ]
     },
     "execution_count": 13,
     "metadata": {},
     "output_type": "execute_result"
    }
   ],
   "source": [
    "from qiskit import QuantumRegister, ClassicalRegister\n",
    "\n",
    "crx = ClassicalRegister(1, 'crx')\n",
    "crz = ClassicalRegister(1, 'crz')\n",
    "qr = QuantumRegister(2, 'qreg')\n",
    "\n",
    "qc = QuantumCircuit(qr,crx,crz)\n",
    "\n",
    "qc.h(qr[0])\n",
    "qc.cx(qr[0], qr[1])\n",
    "qc.rx(0.1, qr[1])\n",
    "qc.measure(qr[0],crz[0])\n",
    "qc.measure(qr[1],crz[0])\n",
    "\n",
    "qc.draw('mpl')"
   ]
  },
  {
   "cell_type": "markdown",
   "id": "773e323370969057",
   "metadata": {
    "collapsed": false,
    "jupyter": {
     "outputs_hidden": false
    }
   },
   "source": [
    "We can use name or index together"
   ]
  },
  {
   "cell_type": "code",
   "execution_count": 14,
   "id": "9105e1f7ec19a44d",
   "metadata": {
    "ExecuteTime": {
     "end_time": "2024-03-11T14:00:04.189934400Z",
     "start_time": "2024-03-11T14:00:04.154952400Z"
    },
    "collapsed": false,
    "jupyter": {
     "outputs_hidden": false
    }
   },
   "outputs": [
    {
     "data": {
      "text/html": [
       "<pre style=\"word-wrap: normal;white-space: pre;background: #fff0;line-height: 1.1;font-family: &quot;Courier New&quot;,Courier,monospace\">                  ┌─┐\n",
       "  qa_0: ──■────■──┤M├\n",
       "        ┌─┴─┐┌─┴─┐└╥┘\n",
       "  qa_1: ┤ X ├┤ X ├─╫─\n",
       "        └───┘└───┘ ║ \n",
       "  qb_0: ──■────■───╫─\n",
       "        ┌─┴─┐┌─┴─┐ ║ \n",
       "  qb_1: ┤ Y ├┤ Y ├─╫─\n",
       "        └───┘└───┘ ║ \n",
       "creg: 2/═══════════╩═\n",
       "                   0 </pre>"
      ],
      "text/plain": [
       "                  ┌─┐\n",
       "  qa_0: ──■────■──┤M├\n",
       "        ┌─┴─┐┌─┴─┐└╥┘\n",
       "  qa_1: ┤ X ├┤ X ├─╫─\n",
       "        └───┘└───┘ ║ \n",
       "  qb_0: ──■────■───╫─\n",
       "        ┌─┴─┐┌─┴─┐ ║ \n",
       "  qb_1: ┤ Y ├┤ Y ├─╫─\n",
       "        └───┘└───┘ ║ \n",
       "creg: 2/═══════════╩═\n",
       "                   0 "
      ]
     },
     "execution_count": 14,
     "metadata": {},
     "output_type": "execute_result"
    }
   ],
   "source": [
    "qra = QuantumRegister(2, 'qa')\n",
    "qrb = QuantumRegister(2, 'qb')\n",
    "cr = ClassicalRegister(2, 'creg')\n",
    "qc = QuantumCircuit(qra, qrb, cr)\n",
    "qc.cx(qra[0], qra[1])\n",
    "qc.cy(qrb[0], qrb[1])\n",
    "qc.cx(0, 1)\n",
    "qc.cy(2, 3)\n",
    "qc.measure(0, 0)\n",
    "qc.draw()"
   ]
  },
  {
   "cell_type": "markdown",
   "id": "9cceb0a4f38cf836",
   "metadata": {
    "collapsed": false,
    "jupyter": {
     "outputs_hidden": false
    }
   },
   "source": [
    "### Circuit Simulation\n",
    "\n",
    "We can simulate the circuit in 3 ways:\n",
    "- *Statevector simulator*: output the complex vector of amplitudes\n",
    "- *Unitary simulator*: output the complex matrix representing the transformation performed by your circuit\n",
    "- *Sampler simulator*: compute circuit output probabilities "
   ]
  },
  {
   "cell_type": "markdown",
   "id": "92b6b5383934f63d",
   "metadata": {
    "collapsed": false,
    "jupyter": {
     "outputs_hidden": false
    }
   },
   "source": [
    "**Statevector simulator**"
   ]
  },
  {
   "cell_type": "code",
   "execution_count": 18,
   "id": "1b84e560a5afbcd7",
   "metadata": {
    "ExecuteTime": {
     "end_time": "2024-03-11T14:08:52.532890300Z",
     "start_time": "2024-03-11T14:08:52.485584300Z"
    },
    "collapsed": false,
    "jupyter": {
     "outputs_hidden": false
    }
   },
   "outputs": [
    {
     "name": "stdout",
     "output_type": "stream",
     "text": [
      "Statevector([0.+0.j, 1.+0.j],\n",
      "            dims=(2,))\n"
     ]
    }
   ],
   "source": [
    "from qiskit.quantum_info import Statevector\n",
    "import math\n",
    "\n",
    "\n",
    "qc = QuantumCircuit(1)\n",
    "qc.x(0)\n",
    "\n",
    "Statevector(qc)\n"
   ]
  },
  {
   "cell_type": "markdown",
   "id": "2e1dc63b2fb2eb69",
   "metadata": {
    "collapsed": false,
    "jupyter": {
     "outputs_hidden": false
    }
   },
   "source": [
    "#### Operator Simulator\n",
    "\n",
    "The `Operator` class is used in Qiskit to represent matrix operators acting on a quantum system. \n",
    "\n",
    "It has several methods to build composite operators using tensor products of smaller operators, and to compose operators.\n",
    "\n",
    "We can define manually operators"
   ]
  },
  {
   "cell_type": "code",
   "execution_count": 19,
   "id": "6129d2d855c23c3f",
   "metadata": {
    "ExecuteTime": {
     "end_time": "2024-03-11T14:10:00.946399300Z",
     "start_time": "2024-03-11T14:10:00.924415600Z"
    },
    "collapsed": false,
    "jupyter": {
     "outputs_hidden": false
    }
   },
   "outputs": [
    {
     "name": "stdout",
     "output_type": "stream",
     "text": [
      "Operator([[0.+0.j, 0.+0.j, 0.+0.j, 1.+0.j],\n",
      "          [0.+0.j, 0.+0.j, 1.+0.j, 0.+0.j],\n",
      "          [0.+0.j, 1.+0.j, 0.+0.j, 0.+0.j],\n",
      "          [1.+0.j, 0.+0.j, 0.+0.j, 0.+0.j]],\n",
      "         input_dims=(2, 2), output_dims=(2, 2))\n"
     ]
    }
   ],
   "source": [
    "from qiskit.quantum_info import Operator\n",
    "\n",
    "XX = Operator([[0, 0, 0, 1], [0, 0, 1, 0], [0, 1, 0, 0], [1, 0, 0, 0]])\n",
    "XX"
   ]
  },
  {
   "cell_type": "code",
   "execution_count": 20,
   "id": "2d09cdb23e5fc1f9",
   "metadata": {
    "ExecuteTime": {
     "end_time": "2024-03-11T14:10:35.965577900Z",
     "start_time": "2024-03-11T14:10:35.934658200Z"
    },
    "collapsed": false,
    "jupyter": {
     "outputs_hidden": false
    }
   },
   "outputs": [
    {
     "data": {
      "text/html": [
       "<pre style=\"word-wrap: normal;white-space: pre;background: #fff0;line-height: 1.1;font-family: &quot;Courier New&quot;,Courier,monospace\">     ┌──────────┐\n",
       "q_0: ┤0         ├\n",
       "     │  Unitary │\n",
       "q_1: ┤1         ├\n",
       "     └──────────┘</pre>"
      ],
      "text/plain": [
       "     ┌──────────┐\n",
       "q_0: ┤0         ├\n",
       "     │  Unitary │\n",
       "q_1: ┤1         ├\n",
       "     └──────────┘"
      ]
     },
     "execution_count": 20,
     "metadata": {},
     "output_type": "execute_result"
    }
   ],
   "source": [
    "circ = QuantumCircuit(2)\n",
    "circ.append(XX, [0, 1])\n",
    "circ.draw()"
   ]
  },
  {
   "cell_type": "markdown",
   "id": "25951aea9d5ab925",
   "metadata": {
    "collapsed": false,
    "jupyter": {
     "outputs_hidden": false
    }
   },
   "source": [
    "We can obtain the operator representation of a generic circuit"
   ]
  },
  {
   "cell_type": "code",
   "execution_count": 22,
   "id": "1ab1c72bd8b2d308",
   "metadata": {
    "ExecuteTime": {
     "end_time": "2024-03-11T14:11:28.375231300Z",
     "start_time": "2024-03-11T14:11:28.252760700Z"
    },
    "collapsed": false,
    "jupyter": {
     "outputs_hidden": false
    }
   },
   "outputs": [
    {
     "data": {
      "image/png": "[encoded data removed]",
      "text/plain": [
       "<Figure size 203.683x284.278 with 1 Axes>"
      ]
     },
     "execution_count": 22,
     "metadata": {},
     "output_type": "execute_result"
    }
   ],
   "source": [
    "circ = QuantumCircuit(2, 2)\n",
    "circ.h(0)\n",
    "circ.x(1)\n",
    "circ.draw('mpl')"
   ]
  },
  {
   "cell_type": "code",
   "execution_count": 24,
   "id": "eb623fd7c98fc5dc",
   "metadata": {
    "ExecuteTime": {
     "end_time": "2024-03-11T14:11:41.920247200Z",
     "start_time": "2024-03-11T14:11:41.888706100Z"
    },
    "collapsed": false,
    "jupyter": {
     "outputs_hidden": false
    }
   },
   "outputs": [
    {
     "name": "stdout",
     "output_type": "stream",
     "text": [
      "Operator([[ 0.        +0.j,  0.        +0.j,  0.70710678+0.j,\n",
      "            0.70710678+0.j],\n",
      "          [ 0.        +0.j,  0.        +0.j,  0.70710678+0.j,\n",
      "           -0.70710678+0.j],\n",
      "          [ 0.70710678+0.j,  0.70710678+0.j,  0.        +0.j,\n",
      "            0.        +0.j],\n",
      "          [ 0.70710678+0.j, -0.70710678+0.j,  0.        +0.j,\n",
      "            0.        +0.j]],\n",
      "         input_dims=(2, 2), output_dims=(2, 2))\n"
     ]
    }
   ],
   "source": [
    "\n",
    "\n",
    "O = Operator(circ)\n",
    "O"
   ]
  },
  {
   "cell_type": "code",
   "execution_count": 25,
   "id": "a5ca553352973465",
   "metadata": {
    "ExecuteTime": {
     "end_time": "2024-03-11T14:11:47.964934900Z",
     "start_time": "2024-03-11T14:11:47.916657900Z"
    },
    "collapsed": false,
    "jupyter": {
     "outputs_hidden": false
    }
   },
   "outputs": [
    {
     "name": "stdout",
     "output_type": "stream",
     "text": [
      "(4, 4)\n",
      "[[ 0.        +0.j  0.        +0.j  0.70710678+0.j  0.70710678+0.j]\n",
      " [ 0.        +0.j  0.        +0.j  0.70710678+0.j -0.70710678+0.j]\n",
      " [ 0.70710678+0.j  0.70710678+0.j  0.        +0.j  0.        +0.j]\n",
      " [ 0.70710678+0.j -0.70710678+0.j  0.        +0.j  0.        +0.j]]\n",
      "(2, 2)\n",
      "(2, 2)\n"
     ]
    }
   ],
   "source": [
    "print(O.dim)\n",
    "print(O.data)\n",
    "print(O.output_dims())\n",
    "print(O.input_dims())"
   ]
  },
  {
   "cell_type": "markdown",
   "id": "3d800548c8522241",
   "metadata": {
    "collapsed": false,
    "jupyter": {
     "outputs_hidden": false
    }
   },
   "source": [
    "#### Sampler primitive \n",
    "\n",
    "We start from this circuit"
   ]
  },
  {
   "cell_type": "code",
   "execution_count": 27,
   "id": "645dcb4abdc0fee5",
   "metadata": {
    "ExecuteTime": {
     "end_time": "2024-03-11T14:13:14.931587900Z",
     "start_time": "2024-03-11T14:13:14.655053300Z"
    },
    "collapsed": false,
    "jupyter": {
     "outputs_hidden": false
    }
   },
   "outputs": [
    {
     "data": {
      "image/png": "[encoded data removed]",
      "text/plain": [
       "<Figure size 663.998x367.889 with 1 Axes>"
      ]
     },
     "execution_count": 27,
     "metadata": {},
     "output_type": "execute_result"
    }
   ],
   "source": [
    "qc = QuantumCircuit(3)\n",
    "qc.h(0)\n",
    "qc.cx(0,1)\n",
    "qc.measure_all()\n",
    "qc.draw(\"mpl\")"
   ]
  },
  {
   "cell_type": "markdown",
   "id": "fdf22e42f02e9928",
   "metadata": {
    "collapsed": false,
    "jupyter": {
     "outputs_hidden": false
    }
   },
   "source": [
    "First we initialize the `Sampler` creating a `qiskit.primitives.Sampler` instance."
   ]
  },
  {
   "cell_type": "code",
   "execution_count": 29,
   "id": "cb9c1a126b8d2342",
   "metadata": {
    "ExecuteTime": {
     "end_time": "2024-03-11T14:14:00.747631800Z",
     "start_time": "2024-03-11T14:14:00.668958700Z"
    },
    "collapsed": false,
    "jupyter": {
     "outputs_hidden": false
    }
   },
   "outputs": [],
   "source": [
    "from qiskit.primitives import Sampler\n",
    "sampler = Sampler()"
   ]
  },
  {
   "cell_type": "markdown",
   "id": "6feec8f5311d036d",
   "metadata": {
    "collapsed": false,
    "jupyter": {
     "outputs_hidden": false
    }
   },
   "source": [
    "\n",
    "*Run and get results*\n",
    "Now that you have defined your sampler, run it by calling the `qiskit.primitives.Sampler.run` method, which returns an instance of `qiskit.providers.JobV1`. \n",
    "\n",
    "You can get the results from the job (as a `qiskit.primitives.SamplerResult` object) with the `qiskit.providers.JobV1.result` method."
   ]
  },
  {
   "cell_type": "code",
   "execution_count": 32,
   "id": "5eb5689b3958bf53",
   "metadata": {
    "ExecuteTime": {
     "end_time": "2024-03-11T14:16:34.545967500Z",
     "start_time": "2024-03-11T14:16:34.498267400Z"
    },
    "collapsed": false,
    "jupyter": {
     "outputs_hidden": false
    }
   },
   "outputs": [
    {
     "name": "stdout",
     "output_type": "stream",
     "text": [
      "{'000': 0.4999999999999999, '011': 0.4999999999999999}\n"
     ]
    }
   ],
   "source": [
    "job = sampler.run(qc)\n",
    "result = job.result()\n",
    "print(result.quasi_dists[0].binary_probabilities())"
   ]
  },
  {
   "cell_type": "markdown",
   "id": "37220e8ff6f0cc5c",
   "metadata": {
    "collapsed": false,
    "jupyter": {
     "outputs_hidden": false
    }
   },
   "source": [
    "##### Change run options\n",
    "\n",
    "Your workflow might require tuning primitive run options, such as the number of shots.\n",
    "\n",
    "By default, the reference `qiskit.primitives.Sampler` class performs an exact statevector calculation based on the `qiskit.quantum_info.Statevector` class. \n",
    "However, this can be modified to include shot noise if the number of shots is set. For reproducibility purposes, a seed will also be set in the following examples.\n",
    "\n",
    "There are two main ways of setting options in the `qiskit.primitives.Sampler`:\n",
    "\n",
    "1. Set keyword arguments in the `qiskit.primitives.Sampler.run` method.\n",
    "2. Modify `qiskit.primitives.Sampler` options.\n",
    "\n",
    "##### Set keyword arguments \n",
    "\n",
    "If you only want to change the settings for a specific run, it can be more convenient to set the options inside the `qiskit.primitives.Sampler.run` method. You can do this by passing them as keyword arguments.\n"
   ]
  },
  {
   "cell_type": "code",
   "execution_count": 43,
   "id": "6eca76fa70804059",
   "metadata": {
    "ExecuteTime": {
     "end_time": "2024-03-11T14:19:54.123501900Z",
     "start_time": "2024-03-11T14:19:54.092034600Z"
    },
    "collapsed": false,
    "jupyter": {
     "outputs_hidden": false
    }
   },
   "outputs": [
    {
     "data": {
      "text/plain": [
       "SamplerResult(quasi_dists=[{0: 0.49359, 3: 0.50641}], metadata=[{'shots': 100000}])"
      ]
     },
     "execution_count": 43,
     "metadata": {},
     "output_type": "execute_result"
    }
   ],
   "source": [
    "job = sampler.run(qc, shots=100000)\n",
    "result = job.result()\n",
    "result"
   ]
  },
  {
   "cell_type": "markdown",
   "id": "a120f00568a13fcc",
   "metadata": {
    "collapsed": false,
    "jupyter": {
     "outputs_hidden": false
    }
   },
   "source": [
    "\n",
    "If you prefer to change the options of an already-defined `qiskit.primitives.Sampler`, you can use `qiskit.primitives.Sampler.set_options` and introduce the new options as keyword arguments.\n"
   ]
  },
  {
   "cell_type": "code",
   "execution_count": 62,
   "id": "975be65837207d39",
   "metadata": {
    "ExecuteTime": {
     "end_time": "2024-03-06T16:14:54.141953300Z",
     "start_time": "2024-03-06T16:14:54.109312500Z"
    },
    "collapsed": false,
    "jupyter": {
     "outputs_hidden": false
    }
   },
   "outputs": [
    {
     "name": "stdout",
     "output_type": "stream",
     "text": [
      "SamplerResult(quasi_dists=[{0: 0.5205078125, 3: 0.4794921875}], metadata=[{'shots': 2048}])\n"
     ]
    }
   ],
   "source": [
    "sampler.set_options(shots=2048, seed=123)\n",
    " \n",
    "job = sampler.run(qc)\n",
    "result = job.result()\n",
    "print(result)"
   ]
  },
  {
   "cell_type": "markdown",
   "id": "578fda6aeb4fdce8",
   "metadata": {
    "collapsed": false,
    "jupyter": {
     "outputs_hidden": false
    }
   },
   "source": [
    "If you prefer to define a new `qiskit.primitives.Sampler` with new options, we can use a dictionary like the following:"
   ]
  },
  {
   "cell_type": "code",
   "execution_count": 63,
   "id": "1183daf945b7a71",
   "metadata": {
    "ExecuteTime": {
     "end_time": "2024-03-06T16:16:50.555603800Z",
     "start_time": "2024-03-06T16:16:50.538629800Z"
    },
    "collapsed": false,
    "jupyter": {
     "outputs_hidden": false
    }
   },
   "outputs": [
    {
     "name": "stdout",
     "output_type": "stream",
     "text": [
      "SamplerResult(quasi_dists=[{0: 0.5205078125, 3: 0.4794921875}], metadata=[{'shots': 2048}])\n"
     ]
    }
   ],
   "source": [
    "options = {\"shots\": 2048, \"seed\": 123}\n",
    "\n",
    "sampler = Sampler(options=options)\n",
    " \n",
    "job = sampler.run(qc)\n",
    "result = job.result()\n",
    "print(result)"
   ]
  },
  {
   "cell_type": "markdown",
   "id": "4fc3b289a50eb9ef",
   "metadata": {
    "collapsed": false,
    "jupyter": {
     "outputs_hidden": false
    }
   },
   "source": [
    "### An Example: the swap test\n",
    "\n",
    "The swap test is a procedure in quantum computation that is used to check how much two quantum states differ, see [wikipedia](https://en.wikipedia.org/wiki/Swap_test) for more information.\n",
    "\n",
    "#### \n",
    "<img src=\"Image/Quantum-swap-test-circuit-correct.png\" width=600 />\n",
    "\n",
    "\n",
    "---\n",
    "\n",
    "**Explanation of the circuit:**\n",
    "\n",
    "Consider two states: $|\\phi\\rangle$ and $|\\psi\\rangle$. \n",
    "The state of the system at the beginning of the protocol is $|0,\\phi,\\psi\\rangle$. \n",
    " - After the Hadamard gate, the state  is $\\frac{1}{\\sqrt{2}}(|0,\\phi,\\psi\\rangle +|1,\\phi,\\psi\\rangle)$\n",
    " - After the controlled SWAP gate: $\\frac{1}{\\sqrt{2}}(|0,\\phi,\\psi\\rangle +|1,\\psi,\\phi\\rangle)$\n",
    " - After the second Hadamard gate results in: $\n",
    "\\frac{1}{2}(|0,\\phi,\\psi\\rangle +|1,\\phi,\\psi\\rangle +|0,\\psi,\\phi\\rangle -|1,\\psi,\\phi\\rangle) = \\frac{1}{2}|0\\rangle (|\\phi,\\psi\\rangle +|\\psi,\\phi\\rangle) +\\frac{1}{2}|1\\rangle (|\\phi,\\psi\\rangle -|\\psi,\\phi\\rangle)$\n",
    "\n",
    "The measurement gate on the first qubit ensures that it's 0 with a probability of: $\n",
    "P(\\text{First qubit}=0) = \\frac{1}{2}\\left(\\langle\\phi|\\langle\\psi|+\\langle\\psi|\\langle\\phi|\\right)\\frac{1}{2}\\left(|\\phi\\rangle|\\psi\\rangle +|\\psi\\rangle|\\phi\\rangle\\right) = \\frac{1}{2}+\\frac{1}{2}|\\langle\\psi|\\phi\\rangle|^2 $\n",
    "\n",
    "\n",
    "If $|\\psi\\rangle$ and $|\\phi\\rangle$ are orthogonal ($|\\langle\\psi|\\phi\\rangle|^2 = 0$), then the probability that 0 is measured is $\\frac{1}{2}$.\n",
    " If the states are equal ($|\\langle\\psi|\\phi\\rangle|^2 = 1$), then the probability that 0 is measured is 1. [2]\n"
   ]
  },
  {
   "cell_type": "markdown",
   "id": "7831d104-565a-4372-88b2-b843e1a702a3",
   "metadata": {},
   "source": [
    "\n"
   ]
  },
  {
   "cell_type": "code",
   "execution_count": 47,
   "id": "99e0bf79e68a83a3",
   "metadata": {
    "ExecuteTime": {
     "end_time": "2024-03-11T14:30:06.261962800Z",
     "start_time": "2024-03-11T14:30:06.183701200Z"
    },
    "collapsed": false,
    "jupyter": {
     "outputs_hidden": false
    }
   },
   "outputs": [
    {
     "name": "stdout",
     "output_type": "stream",
     "text": [
      "SamplerResult(quasi_dists=[{0: 0.76171875, 1: 0.23828125}], metadata=[{'shots': 2048}])\n"
     ]
    }
   ],
   "source": [
    "\n",
    "from math import sqrt\n",
    "\n",
    "qc = QuantumCircuit(3, 1)\n",
    "\n",
    "#psi = Statevector([1/sqrt(2), -1/sqrt(2)])\n",
    "phi = Statevector([1/sqrt(2), -1/sqrt(2)])\n",
    "psi = Statevector([1, 0])\n",
    "# phi = Statevector([0, 1])\n",
    "\n",
    "qc.initialize(psi, 1)\n",
    "qc.initialize(phi, 2)\n",
    "\n",
    "qc.barrier()\n",
    "qc.h(0)\n",
    "qc.cswap(0,1,2)\n",
    "qc.h(0)\n",
    "qc.measure(0, 0)\n",
    "qc.draw('mpl')\n",
    "\n",
    "sampler.set_options(shots=2048)\n",
    " \n",
    "job = sampler.run(qc)\n",
    "result = job.result()\n",
    "print(result)\n",
    "\n"
   ]
  },
  {
   "cell_type": "markdown",
   "id": "849674cc3bc71650",
   "metadata": {
    "collapsed": false,
    "jupyter": {
     "outputs_hidden": false
    }
   },
   "source": [
    "### Your turn\n",
    "1. Build the teleportation circuit\n",
    "\n",
    "<img src=\"Image/teleportation1.jpeg\" width=600 />\n",
    "\n",
    "2. Verified that it works using the swap test\n",
    "\n",
    "3. Implement this circuit (the phase gate in qiskit is `circ.p(phase,qubit)` :\n",
    "\n",
    "<img src=\"Image/thumbnail_Image.png\" width=1000 />\n"
   ]
  },
  {
   "cell_type": "markdown",
   "id": "f7e96b579cf954d7",
   "metadata": {
    "collapsed": false,
    "jupyter": {
     "outputs_hidden": false
    }
   },
   "source": [
    "### If you need help\n",
    "Write to me at:\n",
    "nicola.assolini@univr.it"
   ]
  }
 ],
 "metadata": {
  "kernelspec": {
   "display_name": "Python 3 (ipykernel)",
   "language": "python",
   "name": "python3"
  },
  "language_info": {
   "codemirror_mode": {
    "name": "ipython",
    "version": 3
   },
   "file_extension": ".py",
   "mimetype": "text/x-python",
   "name": "python",
   "nbconvert_exporter": "python",
   "pygments_lexer": "ipython3",
   "version": "3.12.2"
  }
 },
 "nbformat": 4,
 "nbformat_minor": 5
}
