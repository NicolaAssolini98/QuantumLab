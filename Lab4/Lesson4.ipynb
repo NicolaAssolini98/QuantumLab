{
 "cells": [
  {
   "cell_type": "markdown",
   "id": "ede8121ccf30c61a",
   "metadata": {},
   "source": [
    "#### 1. Warm up exercise\n",
    "\n",
    "Describing a possible implementation of the circuit C in the figure to achieve the result $α|000⟩ + β|111⟩$ on the input configuration shown in the figure:\n",
    "\n",
    "<img src=\"Image/img.png\" width=400 />"
   ]
  },
  {
   "cell_type": "code",
   "id": "982b86338c46d08b",
   "metadata": {
    "ExecuteTime": {
     "end_time": "2024-04-13T17:10:31.106841Z",
     "start_time": "2024-04-13T17:10:31.097252Z"
    }
   },
   "source": [
    "# TODO"
   ],
   "outputs": [],
   "execution_count": 1
  },
  {
   "cell_type": "markdown",
   "id": "ce04fe17-1ae7-4304-8154-783cb3c773ce",
   "metadata": {},
   "source": [
    "#### Entanglement States\n",
    "\n",
    "##### Pure and Mixed State\n",
    "\n",
    "You have already discussed pure quantum states.\n",
    "On the other hand, mixed states are statistical combinations of pure states.\n",
    "\n",
    "A **pure state** is a quantum state whose wave function is known with certainty.\n",
    "\n",
    "Conversely, a **mixed state** is a statistical distribution of pure states, represented as $\\{(pi, |ψi⟩)\\}$ where the pi's form a valid probability distribution $(∑_{i∈[n]}p_i = 1)$, and each $|ψ_i⟩$ is a valid (pure) state.\n",
    "\n",
    "The **purity** of a quantum state described by the density operator ρ can be checked considering the trace, in particular:\n",
    " - (Properties of pure states):\n",
    "    1. $ρ^2 = ρ$.\n",
    "    2. $Tr[ρ] = 1$.\n",
    "    3. $Tr[ρ^2] = 1$.\n",
    "    4. $ρ ≥ 0$.\n",
    "\n",
    "- (Properties of mixed states):\n",
    "    1. $ρ^2 ≠ ρ$ in general.\n",
    "    2. $Tr[ρ] = 1$.\n",
    "    3. $Tr[ρ^2] < 1$.\n",
    "    4. $ρ ≥ 0$.\n",
    "\n",
    "\n",
    "#### Trace and Partial Trace\n",
    "\n",
    "**Trace of a matrix**: the trace of a matrix is the sum of its diagonal elements.\n",
    "\n",
    "Thus, we can formally define the trace of an operator:\n",
    "\n",
    "**Trace of an operator**\n",
    "The trace of an operator $ T $ is given by:\n",
    "$ \\text{Tr}(T) := \\sum_i \\langle i|T|i \\rangle $\n",
    "where $ \\{|i\\rangle\\} $ represents any orthonormal basis.\n",
    "\n",
    "The partial trace is conceptually similar to the trace but operates on a subset of the system. \n",
    "Specifically, it's used when we're interested in \"tracing out\" certain components of a composite system. For instance, if we have particles A and B represented by $ \\rho_A $ and $ \\rho_B $ respectively, the joint state of both particles is $ \\rho_{AB} = \\rho_A \\otimes \\rho_B $.\n",
    "\n",
    "However, if we want to isolate one component, particle $B$, we perform a partial trace to \"ignore\" its contribution. This is useful when we're only concerned with the state of $A$, regardless of $B$'s state.\n",
    "\n",
    "For instance, if we're interested only in particle $A$, we perform a partial trace over particle $B$.\n",
    "Mathematically, this is expressed as: $ \\text{Tr}_B(\\rho_{AB}) = \\sum_i \\rho_A \\otimes \\langle i| \\rho_B |i \\rangle = \\rho_A $\n",
    "\n",
    "Here, we utilize the fact that the trace of a density operator is equal to one. In the case of a separable state like this, the resulting marginal state is simply the original state of particle A, effectively ignoring particle B. This aligns with our intention behind defining the partial trace.\n",
    "\n",
    "However, we extend this concept in more general scenarios where the state $ \\rho_{AB} $ is not separable. We leave particle A untouched and take the trace over particle B by summing over its expectation values on an orthonormal basis.\n",
    "\n",
    "(**Partial Trace**) Let $A$ and $B$ represent two subsystems constituting the composite system described by the density operator $\\rho_{AB}$.\n",
    "The partial trace over the $B$ subsystem, denoted as $\\text{Tr}_B$, is defined as:\n",
    "\n",
    "$$ \n",
    "\\text{Tr}_B(\\rho_{AB}) := \\sum_j (I_A \\otimes \\langle j|_B) \\rho_{AB} (I_A \\otimes |j\\rangle_B) \n",
    "$$\n",
    "\n",
    "Here, $ \\{|j\\rangle\\} $ denotes any orthonormal basis for the Hilbert space $ H_B $ of subsystem $B$. We often abbreviate the resulting state as $ \\rho_A \\equiv \\text{Tr}_B(\\rho_{AB}) $.\n",
    "\n",
    "Similarly, the partial trace over the A subsystem, denoted as $ \\text{Tr}_A $, is defined as:\n",
    "\n",
    "$$\n",
    "\\text{Tr}_A(\\rho_{AB}) := \\sum_i (\\langle i|_A \\otimes I_B) \\rho_{AB} (|i\\rangle_A \\otimes I_B)\n",
    "$$\n",
    "\n",
    "Here, $ \\{|i\\rangle\\} $ represents any orthonormal basis for subsystem $A$'s Hilbert space $ H_A $.\n",
    "\n",
    "\n",
    "##### Verify the Entanglement\n",
    "We can use these properties to verify if two states are entangled, in particular, given $\\rho_{AB}$, $A$ is separable (not entangled) from $B$, if and only if $\\text{Tr}_A(\\rho_{AB})$ or $\\text{Tr}_B(\\rho_{AB})$ are pure state.\n",
    "\n",
    "For example, given the pure state $ρ_{AB} = |Φ_{AB}\\rangle\\langleΦ_{AB}|$, where |Φ_{AB}\\rangle = 1/√2 (|00⟩ + |11⟩) is the maximally entangled Bell state, and the corresponding density operator \n",
    "$$\n",
    "ρ_{AB} = 1/2 (|00⟩⟨00| + |00⟩⟨11| + |11⟩⟨00| + |11⟩⟨11|)\n",
    "$$ \n",
    "\n",
    "If we calculate the partial trace over the $B$ subsystem.\n",
    "$$\n",
    "Tr_B(ρ_{AB}) = 1/2 ((I_A ⊗ ⟨0|_B)ρ_{AB}(I_A ⊗ |0⟩_B) + (I_A ⊗ ⟨1|_B)ρ_{AB}(I_A ⊗ |1⟩_B)) = 1/2 [|0⟩⟨0| + |1⟩⟨1|].\n",
    "$$\n",
    "We obtain a mixed state.\n",
    "\n",
    "Thus, the partial trace of the maximally entangled state results in the maximally mixed state!"
   ]
  },
  {
   "cell_type": "markdown",
   "id": "71a93f63-14b2-457a-88e0-adcef2d2f5f1",
   "metadata": {},
   "source": [
    "##### Exercise\n",
    "\n",
    "Let's consider the following circuit:\n",
    "\n",
    "<img src=\"Image/img_1.png\" width=400 />\n",
    "\n",
    "\n",
    "Let's verify that if $|a\\rangle$ and $|b\\rangle$ are two Bell states, then the states $|c\\rangle$ and $|d\\rangle$ obtained through the circuit form an entangled qubit pair, while $|c\\rangle$and $|d\\rangle$ are separable from each other."
   ]
  },
  {
   "cell_type": "markdown",
   "id": "2d931427ee7100",
   "metadata": {},
   "source": [
    "Since I am good, I already provide you with the function that calculates the partial trace, to calculate the trace you can use numpy `trace` function."
   ]
  },
  {
   "cell_type": "code",
   "id": "c4f4162731b41741",
   "metadata": {
    "ExecuteTime": {
     "end_time": "2024-04-13T17:10:31.266519Z",
     "start_time": "2024-04-13T17:10:31.106841Z"
    }
   },
   "source": [
    "from numpy import kron, zeros, identity, transpose, array, conjugate, sqrt, trace\n",
    "\n",
    "\n",
    "# given the dimension n, return |0>,|1>,...,|n-1>\n",
    "def generate_bases(n):\n",
    "    bases = []\n",
    "    for i in range(n):\n",
    "        base = zeros((n, 1), dtype=complex)\n",
    "        base[i] = 1\n",
    "        bases.append(base)\n",
    "    return bases\n",
    "\n",
    "\n",
    "# Tr_B[ρ_AB] := ∑_j (I_A ⊗ ⟨j|_B) ρ_AB (I_A ⊗ |j⟩_B)\n",
    "def trace_b(eta, d, d_b):\n",
    "    d_a = int(d / d_b)\n",
    "    id_a = identity(d_a, dtype=complex)\n",
    "    bases = generate_bases(d_b)\n",
    "    res = zeros((d_a, d_a), dtype=complex)\n",
    "    for base in bases:\n",
    "        m = kron(id_a, transpose(base))\n",
    "        n = kron(id_a, base)\n",
    "        res += m @ eta @ n\n",
    "\n",
    "    return res\n",
    "\n",
    "\n",
    "# Tr_A[ρ_AB] := ∑_i (⟨i|_A ⊗ I_B) ρ_AB (|i⟩_A ⊗ I_B)\n",
    "def trace_a(eta, d, d_a):\n",
    "    d_b = int(d / d_a)\n",
    "    id_b = identity(d_b, dtype=complex)\n",
    "    bases = generate_bases(d_a)\n",
    "    res = zeros((d_b, d_b), dtype=complex)\n",
    "    for base in bases:\n",
    "        m = kron(transpose(base), id_b)\n",
    "        n = kron(base, id_b)\n",
    "        res += m @ eta @ n\n",
    "\n",
    "    return res\n"
   ],
   "outputs": [],
   "execution_count": 2
  },
  {
   "cell_type": "markdown",
   "id": "eccfb1b4-a4f0-4224-985b-9a00889de2a7",
   "metadata": {},
   "source": [
    "We can see how this functions works on the previus example."
   ]
  },
  {
   "cell_type": "code",
   "id": "81899c679db6e02e",
   "metadata": {
    "ExecuteTime": {
     "end_time": "2024-04-13T17:10:31.282412Z",
     "start_time": "2024-04-13T17:10:31.267526Z"
    }
   },
   "source": [
    "\n",
    "# |Φ_{AB}⟩ = 1/√2 (|00⟩ + |11⟩)\n",
    "phi = array([[sqrt(2)/2 + 0j,\n",
    "              0 + 0j,\n",
    "              0 + 0j,\n",
    "              sqrt(2)/2 + 0j]]).transpose()\n",
    "\n",
    "\n",
    "#ρ_{AB} = |Φ_{AB}⟩⟨Φ_{AB}|\n",
    "rho = phi @ conjugate(phi.transpose())\n",
    "\n",
    "dim, dim_a, dim_b = 2 ** 2, 2 ** 1, 2 ** 1\n",
    "ra = trace_a(rho, dim, dim_a)\n",
    "rb = trace_b(rho, dim, dim_b)\n",
    "ra"
   ],
   "outputs": [
    {
     "data": {
      "text/plain": [
       "array([[0.5+0.j, 0. +0.j],\n",
       "       [0. +0.j, 0.5+0.j]])"
      ]
     },
     "execution_count": 3,
     "metadata": {},
     "output_type": "execute_result"
    }
   ],
   "execution_count": 3
  },
  {
   "cell_type": "code",
   "id": "5e9ed4f229df4d26",
   "metadata": {
    "ExecuteTime": {
     "end_time": "2024-04-13T17:10:31.298147Z",
     "start_time": "2024-04-13T17:10:31.284422Z"
    }
   },
   "source": [
    "r_square = ra @ ra\n",
    "trace(r_square)"
   ],
   "outputs": [
    {
     "data": {
      "text/plain": [
       "(0.5000000000000002+0j)"
      ]
     },
     "execution_count": 4,
     "metadata": {},
     "output_type": "execute_result"
    }
   ],
   "execution_count": 4
  }
 ],
 "metadata": {
  "kernelspec": {
   "display_name": "Python 3 (ipykernel)",
   "language": "python",
   "name": "python3"
  },
  "language_info": {
   "codemirror_mode": {
    "name": "ipython",
    "version": 3
   },
   "file_extension": ".py",
   "mimetype": "text/x-python",
   "name": "python",
   "nbconvert_exporter": "python",
   "pygments_lexer": "ipython3",
   "version": "3.12.3"
  }
 },
 "nbformat": 4,
 "nbformat_minor": 5
}
