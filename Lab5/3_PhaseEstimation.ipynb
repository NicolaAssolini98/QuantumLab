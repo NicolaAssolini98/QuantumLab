{
 "cells": [
  {
   "cell_type": "markdown",
   "metadata": {},
   "source": [
    "# Phase estimation\n",
    "\n",
    "This notebook is  based on [this](https://www.ryanlarose.com/uploads/1/1/5/8/115879647/quic03-phase-estimation.pdf) set of notes, which was written by Ryan LaRose.\n",
    "$$\\newcommand{\\ket}[1]{\\left|{#1}\\right\\rangle}$$\n",
    "$$\\newcommand{\\bra}[1]{\\left\\langle{#1}\\right|}$$"
   ]
  },
  {
   "cell_type": "markdown",
   "metadata": {},
   "source": [
    "The phase estimation algorithm is used to determine the eigenvalues of a unitary operator. Computing eigenvalues has an enormous number of applications in an enormous number of fields. As such, the phase estimation algorithm is used in a large number of other quantum algorithms from solving linear systems of equations in linear algebra (search for the HHL algorithm) to minimizing the number of features required in machine learning applications (search for quantum principal component analysis)."
   ]
  },
  {
   "cell_type": "markdown",
   "metadata": {},
   "source": [
    "### What is \"phase estimation\"?\n",
    "Lets introduce some background notation first. We’re concerned with an eigenvalue problem, namely an equation of the form\n",
    "\n",
    "$$A \\mathbf{x} = \\lambda \\mathbf{x}$$\n",
    "where $A \\in \\mathbb{C}^{2^m \\times 2^m}$, $\\mathbf{x} \\in \\mathbb{C}^{2^m}$ and $\\lambda \\in \\mathbb{C}$.\n",
    "Note that we write the dimension as $2^m$ for convenience, since $m$ qubits imply a state space of size $2^m$ as we have previously seen. \n",
    "In the quantum case, we’re only going to be concerned with unitary operators, which we normally write as $U$. Since these operators satisfy $U^{\\dagger}U = I$, any eigenvalue has magnitude one. Since $\\mid \\lambda \\mid = 1$, we can write it without loss of generality as \n",
    "\n",
    "$$\\lambda = e^{2 \\pi i \\phi}$$\n",
    "where $0 ≤ \\phi ≤ 1$ is called the *phase*. Hence the term “phase” in “phase estimation.” The term “estimation” comes about not from the fact that quantum computation is probabilistic, but rather in the degree of precision that we are going to compute, or estimate, the phase to. The most general case of phase estimation is when the phase cannot be written exactly using $n$ bits of precision. In this lecture, we’ll only cover the case where $\\phi$ can be written exactly using $n$ bits.\n",
    "\n",
    "Before we going about estimating the phase, let’s introduce some useful notation that is common in quantum algorithms. The phase $\\phi$ is going to be between zero and one, so we can write it as a decimal in binary notation as follows:\n",
    "\n",
    "$$\\phi=0.\\phi_1\\phi_2 \\cdot \\cdot \\cdot \\phi_n$$\n",
    "\n",
    "where each $\\phi_i$ is either zero or one. What does this mean exactly? The same thing we mean when we always write decimals, except here we’re using binary notation.\n",
    "\n",
    "---\n",
    "\n",
    "*Definition*. The expression $\\phi=0.\\phi_1\\phi_2 \\cdot \\cdot \\cdot \\phi_n$ is equivalent to\n",
    "\n",
    "$$\\phi=0.\\phi_1\\phi_2 \\cdot \\cdot \\cdot \\phi_n \\iff \\phi = \\sum_{k=1}^{n} \\phi_k 2^{-k}$$.\n",
    "\n",
    "*Example 1: some numbers as binary decimals*.\n",
    "The number 0.5 in decimal is 0.1 in binary, since $0.1 ≡ (1) · 2^{−1} = 1/2 = 0.5$. Note that 0.1 is the same as 0.100000....\n",
    " The number 0.75 in decimal is 0.11 in binary, since $0.11 ≡ (1)·2^{−1} +1·2^{−2} = 1/2+1/4 = 3/4 = 0.75$."
   ]
  },
  {
   "cell_type": "markdown",
   "metadata": {},
   "source": [
    "### Action of Controlling an Operator on its Eigenstate\n",
    "\n",
    "The key to understanding the phase estimation algorithm is what happens in the following circuit. \n",
    "\n",
    "<img src=\"Image/fig1.png\" align=\"middle\">\n",
    "\n",
    "Here we let $U$ be a unitary operator and $\\bra{\\psi}$ an eigenstate with eigenvalue $\\lambda = e^{2 \\pi i 0.\\phi_1}$. We first perform\n",
    "a Hadamard gate on the first qubit to get the state\n",
    "\n",
    "$$\\ket{+} \\otimes \\ket{\\psi} = \\ket{0}\\ket{\\psi} + \\ket{1}\\ket{\\psi}$$\n",
    "where we have intentionally omitted the normalization factor of $1/\\sqrt{2}$ for clarity. We then perform a controlled $U$ operation, which we have written as $U^{2^0}$ for reasons that will become clear shortly. The action of this gate is to produce the new state\n",
    "\n",
    "$$\\ket{0}\\ket{\\psi} + \\ket{1}U\\ket{\\psi} = \\ket{0}\\ket{\\psi} + e^{2 \\pi i 0.\\phi_1}\\ket{1}\\ket{\\psi} = \\Big (\\ket{0} + e^{2 \\pi i 0.\\phi_1}\\ket{1} \\Big ) \\otimes \\ket{\\psi}$$\n",
    "\n",
    "Note what happened: The second qubit register containing $\\ket{\\psi}$ hasn’t changed. We shouldn’t expect it to, since $\\ket{\\psi}$ is an eigenstate of $U$. Thus, no matter how many times we apply $U$ to this register, nothing happens to $\\ket{\\psi}$.\n",
    "\n",
    "That’s rather odd though—what’s the point of applying $U$ then? The effect was that it *wrote* some information about the eigenvalue into the relative phase of the first qubit. Namely, the entire effect was to map\n",
    "\n",
    "$$\\ket{0} + \\ket{1} \\to \\ket{0} + e^{2 \\pi i 0.\\phi_1}\\ket{1}$$\n",
    "\n",
    "How can we read out this information from the quantum state? Consider the effect of applying another Hadamard transformation on the first qubit, which will produce\n",
    "\n",
    "$$H(\\ket{0} + e^{2 \\pi i 0.\\phi_1}\\ket{1}) = (1 + e^{2 \\pi i 0.\\phi_1})\\ket{0} + (1 - e^{2 \\pi i 0.\\phi_1})\\ket{1}$$\n",
    "where we have again ignored the normalization factor of 1/2.\n",
    "\n",
    "Now, $\\phi_1$ can only be zero or one. In the case that $\\phi_1 = 0$, $e^{2 \\pi i 0. \\phi_1} = 1$, hence the state is exactly $\\ket{0}$. Thus, we measure with certainty (i.e., not probabilistically) a state that tells us exactly what the phase, and hence the eigenvalue, is.\n",
    "\n",
    "---\n",
    "\n",
    "*Example 2: Phase estimation on Pauli-$X$*.\n",
    "\n",
    "First, prove that the eigenvalues of $X$ are −1 and 1 with eigenvectors $\\ket{-}$ and $\\ket{+}$ respectively.\n",
    "Now, let’s see how we can do this using the phase estimation algorithm. The first thing we need to do is prepare an eigenstate, which we can do by performing the Hadamard gate on the $\\ket{0}$ state in the second register to get the plus state. Then, we control on the first qubit in uniform superposition to implement a controlled-$X$ gate, otherwise known as CNOT. Finally, we implement $H$ again on the top qubit, then measure. The complete circuit for this state is shown in in the following circuit.\n",
    "\n",
    "<img src=\"Image/fig2.png\" align=\"middle\">\n",
    "\n",
    "$$\\ket{0} \\otimes \\ket{0} \\xrightarrow{H \\otimes H} \\ket{+} \\otimes \\ket{+}$$\n",
    "$$\\ket{+} \\otimes \\ket{+} \\xrightarrow{CX} \\ket{00} + \\ket{01} + \\ket{10} + \\ket{11}$$\n",
    "$$\\ket{00} + \\ket{01} + \\ket{10} + \\ket{11} \\xrightarrow{H \\otimes I} \\ket{0} \\otimes \\ket{+}$$\n",
    "\n",
    "Note that this state remains unchanged under the CNOT. After performing the second Hadamard on the top qubit, the top qubit is in the state $\\ket{0}$. Hence, measurement always returns the outcome $\\phi_1 = 0$, and so we conclude that the corresponding eigenvalue is $\\lambda = e^{2\\pi i \\cdot 0} = 1$, as we must.\n",
    "\n",
    "---"
   ]
  },
  {
   "cell_type": "markdown",
   "metadata": {},
   "source": [
    "### Controlling Higher Powers\n",
    "\n",
    "The key idea of the phase estimation algorithm is to keep applying the same controlled-$U$ operations, but at successively higher powers of two. The final algorithm introduces $n$ qubits in the top register and implements $C(U^{2^k})$ between the kth qubit and the bottom register. Let’s build up to this with one more example where $n = 2$.\n",
    "\n",
    "The complete circuit for the $n = 2$ case is shown below. (Note that, although we’re only writing one wire for the bottom register, this really consists of $m$ qubits. That is, $\\ket{\\psi}$ is an $m$-qubit state and $U$ is an $m$-qubit unitary.)\n",
    "\n",
    "<img src=\"Image/fig3.png\" align=\"middle\">\n",
    "\n",
    "We’ve already computed what the first control does to the top register. The wavefunction at this point in the circuit is\n",
    "\n",
    "$$\\Big ( \\ket{0} + e^{2 \\pi i 0.\\phi_1 \\phi_2} \\ket{1} \\Big ) \\otimes \\Big( \\ket{0} + \\ket{1} \\Big ) \\otimes \\ket{\\psi}$$\n",
    "Note that the relative phase in the first qubit now has two digits because we assumed that $\\phi=0.\\phi_1\\phi_2$ consists of two digits.\n",
    "\n",
    "The same exact operation now happens on the second qubit, except for one key difference: the power of $U$. In particular, $U$ is now squared. What effect does this have? (answer: $U^2 \\ket{\\psi} = e^{2 \\pi i (2\\phi)} \\ket{\\psi}$).\n",
    "\n",
    "Note an interesing thing:\n",
    "\n",
    "$$2 \\phi = 2 \\cdot 0.\\phi_1\\phi_2 = 2(\\phi_1 2^{-1} + \\phi_2 2^{-2}) = \\phi_1 + 2 \\phi_2 2^{-1} = \\phi_1.\\phi_2$$\n",
    "The effect is that the decimal moves one place to the right. (This should not be too surprising based on common arithmetic in base ten.) What’s interesting and convenient, however, is what happens in the exponent:\n",
    "\n",
    "$$e^{2 \\pi i (2 \\phi)} = e^{2 \\pi i (\\phi_1 + 0.\\phi_2)} = e^{2 \\pi i \\phi_1} e^{2 \\pi i 0.\\phi_2} = e^{2 \\pi i 0.\\phi_2}$$\n",
    "\n",
    "The last equality follows because $\\phi_1$ is an integer and so the exponential is unity, in general:\n",
    "$$\n",
    "e^{2 \\pi i (2^k \\phi)} = e^{2 \\pi i 0.\\phi_k\\phi_{k+1}...}\n",
    "$$\n",
    "\n",
    "Thus, we have proven that the state after applying the $C(U^2)$ to the wavefunction is\n",
    "\n",
    "$$\\Big ( \\ket{0} + e^{2 \\pi i 0.\\phi_1 \\phi_2} \\ket{1} \\Big ) \\otimes \\Big( \\ket{0} + e^{2 \\pi i 0.\\phi_2} \\ket{1} \\Big ) \\otimes \\ket{\\psi} (*)$$\n",
    "\n",
    "How do we read out this information? This time it’s not so easy as a simple Hadamard transform. The missing ingredient is **the quantum Fourier transform**. In particular, the key fact that we’ll be using is the following:\n",
    "\n",
    "---\n",
    "\n",
    "*Definition*. (Quantum Fourier transform action) The quantum Fourier transform is a unitary change of basis with the following effect:\n",
    "\n",
    "$$QFT \\Big ( \\ket{\\phi_1}\\ket{\\phi_2}\\cdot\\cdot\\cdot\\ket{\\phi_n} \\Big ) = 2^{-n/2} \\Big ( \\ket{0} + e^{2 \\pi i0.\\phi_1} \\ket{1} \\Big ) \\otimes \\Big ( \\ket{0} + e^{2 \\pi i0.\\phi_1 \\phi_2} \\ket{1} \\Big )\\otimes \\cdot\\cdot\\cdot \\otimes \\Big ( \\ket{0} + e^{2 \\pi i0.\\phi_1\\phi_2...\\phi_n} \\ket{1} \\Big )$$\n",
    "\n",
    "---\n",
    "\n",
    "The state on the right looks exactly like what we end up with from phase estimation! (Except with the order of the bits reversed, but this is not problem.) So, what we need to apply then to read out the information is the inverse Fourier transform QFT$^{\\dagger}$. (The QFT is unitary, as every quantum algorithm must be, therefore it has an inverse).\n",
    "\n",
    "Thus, if we apply QFT$^{\\dagger}$ to the state in (\\*), we get a product state containing the information we want about the phase:\n",
    "\n",
    "$$QFT^{\\dagger} \\Big ( \\ket{0} + e^{2 \\pi i 0.\\phi_1\\phi_2} \\ket{1} \\Big ) \\otimes \\Big ( \\ket{0} + e^{2 \\pi i 0.\\phi_2} \\ket{1} \\Big ) \\otimes \\ket{\\psi} = \\ket{\\phi_2}\\otimes\\ket{\\phi_1}\\otimes\\ket{\\psi}$$"
   ]
  },
  {
   "cell_type": "markdown",
   "metadata": {},
   "source": [
    "### General Phase Estimation Algorithm\n",
    "\n",
    "We now present the general $n$-qubit case for the phase estimation algorithm. The circuit follows immediately from our work in the previous two sections:\n",
    "\n",
    "<img src=\"Image/fig4.png\" align=\"middle\">\n",
    "\n",
    "The general calculation is also an immediate generalization of our previous work. Namely, the action of the circuit, ignoring the $\\ket{\\psi}$ register that never changes, is\n",
    "\n",
    "$$\\ket{0}^{\\otimes n} \\mapsto $$\n",
    "\n",
    "(after the Hadamards)\n",
    "$$ \\mapsto \\frac{1}{2^{n/2}} \\Big ( \\ket{0} + \\ket{1} \\Big ) \\otimes \\Big ( \\ket{0} + \\ket{1} \\Big ) \\otimes \\cdot\\cdot\\cdot \\otimes \\Big ( \\ket{0} + \\ket{1} \\Big )$$\n",
    "\n",
    "(after the $C(U)$'s)\n",
    "$$ \\mapsto \\frac{1}{2^{n/2}} \\Big ( \\ket{0} + e^{2 \\pi i 0.\\phi_1\\phi_2...\\phi_n}\\ket{1} \\Big ) \\otimes \\Big ( \\ket{0} + e^{2 \\pi i 0.\\phi_2\\phi_3...\\phi_n} \\ket{1} \\Big ) \\otimes \\cdot\\cdot\\cdot \\otimes \\Big ( \\ket{0} + e^{2 \\pi i 0.\\phi_n} \\ket{1} \\Big )$$\n",
    "\n",
    "(after the QFT$^{\\dagger}$)\n",
    "$$\\mapsto \\ket{\\phi_n} \\otimes \\ket{\\phi_{n-1}} \\otimes \\cdot\\cdot\\cdot \\otimes \\ket{\\phi_1}$$\n",
    "\n",
    "By measuring the final state, we obtain a description of the phase, and hence the eigenvalue, exactly."
   ]
  },
  {
   "cell_type": "markdown",
   "metadata": {},
   "source": [
    "## Qiskit Implementation 1\n",
    "\n",
    "Consider a 3-qubit quantum phase estimation of a one-qubit state $\\ket{\\psi}$.\n",
    "For this example, let us take the unitary matrix to be $Z$. Then, the input state $\\ket{1}$ is an eigenvector with eigenvalue  $−1 = e^{2 \\pi i \\times 0.5}$. Hence, $\\phi =$ 0.5 in decimals or 0.1 in binary. If we use 2 ancilla qubits we should expect the final state of the ancilla qubits to be $\\ket{10}$. \n",
    "\n",
    "Note that in this case, the controlled unitary gates are $U^{2^{n-1}} = Z^2 = I$ and $U^{2^0} = Z$\n",
    "\n",
    "Now we will implement the above example in Qiskit. Let's first prepare our environment."
   ]
  },
  {
   "cell_type": "code",
   "metadata": {
    "ExecuteTime": {
     "end_time": "2024-04-29T07:14:34.354571Z",
     "start_time": "2024-04-29T07:14:32.026716Z"
    }
   },
   "source": [
    "\n",
    "#initialization\n",
    "import matplotlib.pyplot as plt\n",
    "%matplotlib inline\n",
    "import numpy as np\n",
    "import math\n",
    "\n",
    "# importing Qiskit\n",
    "from qiskit import QuantumCircuit, ClassicalRegister, QuantumRegister\n",
    "from qiskit.visualization import plot_histogram\n",
    "from qiskit.primitives import Sampler\n",
    "\n",
    "sampler = Sampler()"
   ],
   "outputs": [],
   "execution_count": 1
  },
  {
   "cell_type": "markdown",
   "metadata": {},
   "source": "We apply quantum inverse Fourier transformation to write the phase to the ancilla register. We will use exactly the code that we wrote to do a QFT and adapt it to be that of QFT$^{\\dagger}$."
  },
  {
   "cell_type": "code",
   "metadata": {
    "ExecuteTime": {
     "end_time": "2024-04-29T07:14:34.559166Z",
     "start_time": "2024-04-29T07:14:34.354571Z"
    }
   },
   "source": [
    "def qft(n):\n",
    "    q = QuantumRegister(n, name='q')\n",
    "    qc = QuantumCircuit(q, name='QFT')\n",
    "    # QFT with n qubits\n",
    "    # First we apply hadamard and control phase gates\n",
    "    for j in range(n-1,-1,-1):\n",
    "        qc.h(q[j])\n",
    "        for k in range(j):\n",
    "            qc.cp(math.pi/2**(k+1), q[j-1-k], q[j])\n",
    "        qc.barrier()\n",
    "    # Now finish the QFT by reversing the order of the qubits\n",
    "    for j in range(n//2):\n",
    "        qc.swap(q[j], q[n-j-1])\n",
    "        \n",
    "    return qc\n",
    "\n",
    "qft(3).draw('mpl')\n",
    "\n",
    "def qft_dagger(n):\n",
    "    q = QuantumRegister(n)\n",
    "    circ = QuantumCircuit(q, name=\"qft dag\")\n",
    "    \"\"\"n-qubit QFT dagger on q in circ.\"\"\"\n",
    "    for qubit in range(n // 2):\n",
    "        circ.swap(qubit, n - qubit - 1)\n",
    "    \n",
    "    for j in range(n):\n",
    "        for k in range(j):\n",
    "            circ.cp(-math.pi/float(2**(j-k)), q[k], q[j])\n",
    "        circ.h(q[j])\n",
    "        circ.barrier()\n",
    "    \n",
    "    return circ\n",
    "\n",
    "qft_dagger(3).draw('mpl')\n",
    "\n",
    "# QFT dag without swap\n",
    "def qft_dagger_wo_swap(n):\n",
    "    q = QuantumRegister(n)\n",
    "    circ = QuantumCircuit(q, name=\"qft dag\")\n",
    "    \n",
    "    for j in range(n):\n",
    "        for k in range(j):\n",
    "            circ.cp(-math.pi/float(2**(j-k)), q[k], q[j])\n",
    "        circ.h(q[j])\n",
    "        circ.barrier()\n",
    "    \n",
    "    return circ\n",
    "\n",
    "\n",
    "def cu(n):\n",
    "    circ = QuantumCircuit(1, name=\"u^\" + str(n))\n",
    "    for i in range(n):\n",
    "        circ.z(0)\n",
    "    ctrl_u = circ.to_gate().control(1)\n",
    "    \n",
    "    return ctrl_u"
   ],
   "outputs": [],
   "execution_count": 2
  },
  {
   "cell_type": "markdown",
   "metadata": {},
   "source": [
    "Now, set up the quantum circuit. We will use three qubits -- qubits 0 and 1 as ancilla, and qubit 2 as the eigenstate of the unitary operator.\n",
    "We initialize $\\ket{\\psi} = 1$ by applying an $X$ gate.\n",
    "\n",
    "In this case we use the QFT inv, without the swap part, to read the input in the proper order."
   ]
  },
  {
   "cell_type": "code",
   "metadata": {
    "ExecuteTime": {
     "end_time": "2024-04-29T07:14:35.394466Z",
     "start_time": "2024-04-29T07:14:34.559166Z"
    }
   },
   "source": [
    "# Construct a circuit in qiskit for the 3 qubit (q) and 2 classical (c) registers.\n",
    "q = QuantumRegister(3, name='q')\n",
    "c = ClassicalRegister(2, name='c')\n",
    "qpe = QuantumCircuit(q, c)\n",
    "\n",
    "# Initialize your qubit[2] in a state |1> by applyin an X gate.\n",
    "qpe.x(q[2])\n",
    "qpe.barrier()\n",
    "\n",
    "# Apply Hadamard gates to the ancilla qubits\n",
    "qpe.h(q[0])\n",
    "qpe.h(q[1])\n",
    "\n",
    "qpe.barrier()\n",
    "\n",
    "qpe.append(cu(2),[0,2])\n",
    "qpe.append(cu(1),[1,2])\n",
    "qpe.barrier()\n",
    "\n",
    "qpe.append(qft_dagger_wo_swap(2),[0,1])\n",
    "qpe.measure(q[0], c[0])\n",
    "qpe.measure(q[1], c[1])\n",
    "qpe.decompose().draw('mpl')\n",
    "# qpe.draw('mpl')"
   ],
   "outputs": [
    {
     "data": {
      "text/plain": [
       "<Figure size 1959.72x367.889 with 1 Axes>"
      ],
      "image/png": "[encoded data removed]"
     },
     "execution_count": 3,
     "metadata": {},
     "output_type": "execute_result"
    }
   ],
   "execution_count": 3
  },
  {
   "cell_type": "code",
   "metadata": {
    "ExecuteTime": {
     "end_time": "2024-04-29T07:14:35.541689Z",
     "start_time": "2024-04-29T07:14:35.397672Z"
    }
   },
   "source": [
    "job = sampler.run(qpe, shots=1024)\n",
    "results = job.result()\n",
    "plot_histogram(results.quasi_dists[0].binary_probabilities())"
   ],
   "outputs": [
    {
     "data": {
      "text/plain": [
       "<Figure size 700x500 with 1 Axes>"
      ],
      "image/png": "[encoded data removed]"
     },
     "execution_count": 4,
     "metadata": {},
     "output_type": "execute_result"
    }
   ],
   "execution_count": 4
  },
  {
   "cell_type": "markdown",
   "metadata": {},
   "source": [
    "We indeed see a peak at the binary representation of $0.5 = 1 \\cdot 2^{-1} + 0 \\cdot 2^{-2} = (10)$."
   ]
  },
  {
   "metadata": {},
   "cell_type": "markdown",
   "source": ""
  }
 ],
 "metadata": {
  "kernelspec": {
   "display_name": "Python 3 (ipykernel)",
   "language": "python",
   "name": "python3"
  },
  "language_info": {
   "codemirror_mode": {
    "name": "ipython",
    "version": 3
   },
   "file_extension": ".py",
   "mimetype": "text/x-python",
   "name": "python",
   "nbconvert_exporter": "python",
   "pygments_lexer": "ipython3",
   "version": "3.12.3"
  }
 },
 "nbformat": 4,
 "nbformat_minor": 4
}
