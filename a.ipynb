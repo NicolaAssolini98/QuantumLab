{
 "cells": [
  {
   "cell_type": "code",
   "execution_count": 1,
   "id": "initial_id",
   "metadata": {
    "collapsed": true,
    "ExecuteTime": {
     "end_time": "2024-03-05T14:34:49.448251900Z",
     "start_time": "2024-03-05T14:34:48.788494800Z"
    }
   },
   "outputs": [],
   "source": [
    "from qiskit import ClassicalRegister\n",
    "\n",
    "from qiskit.quantum_info.states.random import random_statevector\n",
    "from qiskit.quantum_info import Operator, Statevector\n",
    "from qiskit import QuantumCircuit, QuantumRegister\n",
    "from qiskit.primitives import Sampler, Estimator\n",
    "from qiskit.visualization import plot_histogram\n",
    "\n",
    "\n",
    "def u_a2(power):\n",
    "    \"\"\"\n",
    "    U|y> = |y2^power mod 7>\n",
    "    \"\"\"\n",
    "    u = QuantumCircuit(3)\n",
    "    for iteration in range(power):\n",
    "        u.swap(0, 1)\n",
    "        u.swap(1, 2)\n",
    "    u = u.to_gate()\n",
    "    u.name = \"2^%i mod 7\" % power\n",
    "\n",
    "    return u.control()\n",
    "\n",
    "\n",
    "def create_bell_circuit():\n",
    "    bell_circuit = QuantumCircuit(2, name='bell')\n",
    "    bell_circuit.h(0)\n",
    "    bell_circuit.cx(0, 1)\n",
    "    return bell_circuit\n"
   ]
  },
  {
   "cell_type": "code",
   "execution_count": null,
   "outputs": [],
   "source": [],
   "metadata": {
    "collapsed": false
   },
   "id": "645dcb4abdc0fee5"
  },
  {
   "cell_type": "code",
   "execution_count": 15,
   "outputs": [
    {
     "data": {
      "text/plain": "       ┌─────────────────────────────────────────────────┐     ┌───┐┌─┐       »\n  q_0: ┤ Initialize(-0.65877-0.66586j,0.34774+0.041619j) ├──■──┤ H ├┤M├───────»\n       └────────────────────┬───────┬────────────────────┘┌─┴─┐└┬─┬┘└╥┘       »\n  q_1: ─────────────────────┤0      ├─────────────────────┤ X ├─┤M├──╫────────»\n                            │  bell │                     └───┘ └╥┘  ║  ┌───┐ »\n  q_2: ─────────────────────┤1      ├────────────────────────────╫───╫──┤ X ├─»\n                            └───────┘                            ║   ║  └─╥─┘ »\n                                                                 ║   ║ ┌──╨──┐»\ncrx: 1/══════════════════════════════════════════════════════════╩═══╬═╡ 0x1 ╞»\n                                                                 0   ║ └─────┘»\ncrz: 1/══════════════════════════════════════════════════════════════╩════════»\n                                                                     0        »\n«              \n«  q_0: ───────\n«              \n«  q_1: ───────\n«        ┌───┐ \n«  q_2: ─┤ Z ├─\n«        └─╥─┘ \n«crx: 1/═══╬═══\n«       ┌──╨──┐\n«crz: 1/╡ 0x1 ╞\n«       └─────┘",
      "text/html": "<pre style=\"word-wrap: normal;white-space: pre;background: #fff0;line-height: 1.1;font-family: &quot;Courier New&quot;,Courier,monospace\">       ┌─────────────────────────────────────────────────┐     ┌───┐┌─┐       »\n  q_0: ┤ Initialize(-0.65877-0.66586j,0.34774+0.041619j) ├──■──┤ H ├┤M├───────»\n       └────────────────────┬───────┬────────────────────┘┌─┴─┐└┬─┬┘└╥┘       »\n  q_1: ─────────────────────┤0      ├─────────────────────┤ X ├─┤M├──╫────────»\n                            │  bell │                     └───┘ └╥┘  ║  ┌───┐ »\n  q_2: ─────────────────────┤1      ├────────────────────────────╫───╫──┤ X ├─»\n                            └───────┘                            ║   ║  └─╥─┘ »\n                                                                 ║   ║ ┌──╨──┐»\ncrx: 1/══════════════════════════════════════════════════════════╩═══╬═╡ 0x1 ╞»\n                                                                 0   ║ └─────┘»\ncrz: 1/══════════════════════════════════════════════════════════════╩════════»\n                                                                     0        »\n«              \n«  q_0: ───────\n«              \n«  q_1: ───────\n«        ┌───┐ \n«  q_2: ─┤ Z ├─\n«        └─╥─┘ \n«crx: 1/═══╬═══\n«       ┌──╨──┐\n«crz: 1/╡ 0x1 ╞\n«       └─────┘</pre>"
     },
     "execution_count": 15,
     "metadata": {},
     "output_type": "execute_result"
    }
   ],
   "source": [
    "qr = QuantumRegister(3, 'q')\n",
    "crx = ClassicalRegister(1, 'crx')\n",
    "crz = ClassicalRegister(1, 'crz')\n",
    "qc = QuantumCircuit(qr, crx, crz)\n",
    "# Use to initialize qubit psi di Alice\n",
    "psi = random_statevector(2).data\n",
    "qc.initialize(psi, qr[0])\n",
    "qc.draw()\n",
    "qc.append(create_bell_circuit(), [qr[1], qr[2]])\n",
    "qc.draw()\n",
    "# show composed circuits\n",
    "qc.decompose().draw()\n",
    "\n",
    "qc.cx(qr[0], qr[1])\n",
    "qc.h(qr[0])\n",
    "qc.draw()\n",
    "\n",
    "qc.measure(qr[0], crz)\n",
    "qc.measure(qr[1], crx)\n",
    "qc.draw()\n",
    "\n",
    "qc.x(qr[2]).c_if(crx, 1)\n",
    "qc.z(qr[2]).c_if(crz, 1)\n",
    "qc.draw()\n",
    "\n",
    "# TODO: use sampler\n",
    "# initialize sampler\n",
    "\n",
    "\n",
    "# print statevector\n",
    "Statevector(qc_dm)\n"
   ],
   "metadata": {
    "collapsed": false,
    "ExecuteTime": {
     "end_time": "2024-03-05T14:12:34.815261400Z",
     "start_time": "2024-03-05T14:12:34.778969300Z"
    }
   },
   "id": "47416568071d7765"
  },
  {
   "cell_type": "code",
   "execution_count": 19,
   "outputs": [
    {
     "ename": "KeyboardInterrupt",
     "evalue": "",
     "output_type": "error",
     "traceback": [
      "\u001B[1;31m---------------------------------------------------------------------------\u001B[0m",
      "\u001B[1;31mKeyboardInterrupt\u001B[0m                         Traceback (most recent call last)",
      "Cell \u001B[1;32mIn[19], line 25\u001B[0m\n\u001B[0;32m     20\u001B[0m \u001B[38;5;66;03m# TODO: use sampler\u001B[39;00m\n\u001B[0;32m     21\u001B[0m sampler \u001B[38;5;241m=\u001B[39m Sampler()\n\u001B[0;32m     22\u001B[0m counts \u001B[38;5;241m=\u001B[39m \u001B[43msampler\u001B[49m\u001B[38;5;241;43m.\u001B[39;49m\u001B[43mrun\u001B[49m\u001B[43m(\u001B[49m\n\u001B[0;32m     23\u001B[0m \u001B[43m    \u001B[49m\u001B[43mqc_dm\u001B[49m\u001B[43m,\u001B[49m\n\u001B[0;32m     24\u001B[0m \u001B[43m    \u001B[49m\u001B[43mshots\u001B[49m\u001B[38;5;241;43m=\u001B[39;49m\u001B[38;5;28;43;01mNone\u001B[39;49;00m\n\u001B[1;32m---> 25\u001B[0m \u001B[43m)\u001B[49m\u001B[38;5;241;43m.\u001B[39;49m\u001B[43mresult\u001B[49m()\u001B[38;5;241m.\u001B[39mquasi_dists[\u001B[38;5;241m0\u001B[39m]\n",
      "Cell \u001B[1;32mIn[19], line 25\u001B[0m\n\u001B[0;32m     20\u001B[0m \u001B[38;5;66;03m# TODO: use sampler\u001B[39;00m\n\u001B[0;32m     21\u001B[0m sampler \u001B[38;5;241m=\u001B[39m Sampler()\n\u001B[0;32m     22\u001B[0m counts \u001B[38;5;241m=\u001B[39m \u001B[43msampler\u001B[49m\u001B[38;5;241;43m.\u001B[39;49m\u001B[43mrun\u001B[49m\u001B[43m(\u001B[49m\n\u001B[0;32m     23\u001B[0m \u001B[43m    \u001B[49m\u001B[43mqc_dm\u001B[49m\u001B[43m,\u001B[49m\n\u001B[0;32m     24\u001B[0m \u001B[43m    \u001B[49m\u001B[43mshots\u001B[49m\u001B[38;5;241;43m=\u001B[39;49m\u001B[38;5;28;43;01mNone\u001B[39;49;00m\n\u001B[1;32m---> 25\u001B[0m \u001B[43m)\u001B[49m\u001B[38;5;241;43m.\u001B[39;49m\u001B[43mresult\u001B[49m()\u001B[38;5;241m.\u001B[39mquasi_dists[\u001B[38;5;241m0\u001B[39m]\n",
      "File \u001B[1;32m_pydevd_bundle\\pydevd_cython_win32_311_64.pyx:1179\u001B[0m, in \u001B[0;36m_pydevd_bundle.pydevd_cython_win32_311_64.SafeCallWrapper.__call__\u001B[1;34m()\u001B[0m\n",
      "File \u001B[1;32m_pydevd_bundle\\pydevd_cython_win32_311_64.pyx:620\u001B[0m, in \u001B[0;36m_pydevd_bundle.pydevd_cython_win32_311_64.PyDBFrame.trace_dispatch\u001B[1;34m()\u001B[0m\n",
      "File \u001B[1;32m_pydevd_bundle\\pydevd_cython_win32_311_64.pyx:929\u001B[0m, in \u001B[0;36m_pydevd_bundle.pydevd_cython_win32_311_64.PyDBFrame.trace_dispatch\u001B[1;34m()\u001B[0m\n",
      "File \u001B[1;32m_pydevd_bundle\\pydevd_cython_win32_311_64.pyx:920\u001B[0m, in \u001B[0;36m_pydevd_bundle.pydevd_cython_win32_311_64.PyDBFrame.trace_dispatch\u001B[1;34m()\u001B[0m\n",
      "File \u001B[1;32m_pydevd_bundle\\pydevd_cython_win32_311_64.pyx:317\u001B[0m, in \u001B[0;36m_pydevd_bundle.pydevd_cython_win32_311_64.PyDBFrame.do_wait_suspend\u001B[1;34m()\u001B[0m\n",
      "File \u001B[1;32mC:\\Program Files\\JetBrains\\PyCharm 2023.2.2\\plugins\\python\\helpers\\pydev\\pydevd.py:1160\u001B[0m, in \u001B[0;36mPyDB.do_wait_suspend\u001B[1;34m(self, thread, frame, event, arg, send_suspend_message, is_unhandled_exception)\u001B[0m\n\u001B[0;32m   1157\u001B[0m         from_this_thread\u001B[38;5;241m.\u001B[39mappend(frame_id)\n\u001B[0;32m   1159\u001B[0m \u001B[38;5;28;01mwith\u001B[39;00m \u001B[38;5;28mself\u001B[39m\u001B[38;5;241m.\u001B[39m_threads_suspended_single_notification\u001B[38;5;241m.\u001B[39mnotify_thread_suspended(thread_id, stop_reason):\n\u001B[1;32m-> 1160\u001B[0m     \u001B[38;5;28;43mself\u001B[39;49m\u001B[38;5;241;43m.\u001B[39;49m\u001B[43m_do_wait_suspend\u001B[49m\u001B[43m(\u001B[49m\u001B[43mthread\u001B[49m\u001B[43m,\u001B[49m\u001B[43m \u001B[49m\u001B[43mframe\u001B[49m\u001B[43m,\u001B[49m\u001B[43m \u001B[49m\u001B[43mevent\u001B[49m\u001B[43m,\u001B[49m\u001B[43m \u001B[49m\u001B[43marg\u001B[49m\u001B[43m,\u001B[49m\u001B[43m \u001B[49m\u001B[43msuspend_type\u001B[49m\u001B[43m,\u001B[49m\u001B[43m \u001B[49m\u001B[43mfrom_this_thread\u001B[49m\u001B[43m)\u001B[49m\n",
      "File \u001B[1;32mC:\\Program Files\\JetBrains\\PyCharm 2023.2.2\\plugins\\python\\helpers\\pydev\\pydevd.py:1175\u001B[0m, in \u001B[0;36mPyDB._do_wait_suspend\u001B[1;34m(self, thread, frame, event, arg, suspend_type, from_this_thread)\u001B[0m\n\u001B[0;32m   1172\u001B[0m             \u001B[38;5;28mself\u001B[39m\u001B[38;5;241m.\u001B[39m_call_mpl_hook()\n\u001B[0;32m   1174\u001B[0m         \u001B[38;5;28mself\u001B[39m\u001B[38;5;241m.\u001B[39mprocess_internal_commands()\n\u001B[1;32m-> 1175\u001B[0m         \u001B[43mtime\u001B[49m\u001B[38;5;241;43m.\u001B[39;49m\u001B[43msleep\u001B[49m\u001B[43m(\u001B[49m\u001B[38;5;241;43m0.01\u001B[39;49m\u001B[43m)\u001B[49m\n\u001B[0;32m   1177\u001B[0m \u001B[38;5;28mself\u001B[39m\u001B[38;5;241m.\u001B[39mcancel_async_evaluation(get_current_thread_id(thread), \u001B[38;5;28mstr\u001B[39m(\u001B[38;5;28mid\u001B[39m(frame)))\n\u001B[0;32m   1179\u001B[0m \u001B[38;5;66;03m# process any stepping instructions\u001B[39;00m\n",
      "\u001B[1;31mKeyboardInterrupt\u001B[0m: "
     ]
    }
   ],
   "source": [
    "\"\"\"\n",
    "verifichiamo che spostando la misurazione in fondo, e controllando x e z con bit quantistico, il risultato sia uguale\n",
    "\"\"\"\n",
    "qr_dm = QuantumRegister(3, 'q')\n",
    "crx_dm = ClassicalRegister(1, 'crx')\n",
    "crz_dm = ClassicalRegister(1, 'crz')\n",
    "qc_dm = QuantumCircuit(qr_dm, crx_dm, crz_dm)\n",
    "qc_dm.initialize(psi, qr[0])\n",
    "qc_dm.append(create_bell_circuit(), [qr[1], qr[2]])\n",
    "qc_dm.cx(qr[0], qr[1])\n",
    "qc_dm.h(qr[0])\n",
    "\n",
    "# sposto misurazioni e x,z diventano cx e cz\n",
    "qc_dm.cx(qr[0], qr[2])\n",
    "qc_dm.cz(qr[1], qr[2])\n",
    "qc_dm.measure(qr[0], crz_dm)\n",
    "qc_dm.measure(qr[1], crx_dm)\n",
    "qc_dm.draw()\n",
    "\n",
    "# TODO: use sampler\n",
    "sampler = Sampler()\n",
    "counts = sampler.run(\n",
    "    qc_dm,\n",
    "    shots=None\n",
    ").result().quasi_dists[0]\n"
   ],
   "metadata": {
    "collapsed": false,
    "ExecuteTime": {
     "end_time": "2024-03-05T14:14:34.880319200Z",
     "start_time": "2024-03-05T14:12:45.139579700Z"
    }
   },
   "id": "85ab69814dd7637a"
  },
  {
   "cell_type": "code",
   "execution_count": 17,
   "outputs": [
    {
     "data": {
      "text/plain": "     ┌───┐     ┌─┐   \nq_0: ┤ H ├──■──┤M├───\n     └───┘┌─┴─┐└╥┘┌─┐\nq_1: ─────┤ X ├─╫─┤M├\n          └───┘ ║ └╥┘\nc: 2/═══════════╩══╩═\n                0  1 ",
      "text/html": "<pre style=\"word-wrap: normal;white-space: pre;background: #fff0;line-height: 1.1;font-family: &quot;Courier New&quot;,Courier,monospace\">     ┌───┐     ┌─┐   \nq_0: ┤ H ├──■──┤M├───\n     └───┘┌─┴─┐└╥┘┌─┐\nq_1: ─────┤ X ├─╫─┤M├\n          └───┘ ║ └╥┘\nc: 2/═══════════╩══╩═\n                0  1 </pre>"
     },
     "execution_count": 17,
     "metadata": {},
     "output_type": "execute_result"
    }
   ],
   "source": [
    "qc = QuantumCircuit(2, 2)\n",
    "qc.h(0)\n",
    "qc.cx(0, 1)\n",
    "qc.measure([0, 1], [0, 1])\n",
    "qc.draw()"
   ],
   "metadata": {
    "collapsed": false,
    "ExecuteTime": {
     "end_time": "2024-03-05T14:12:35.297562200Z",
     "start_time": "2024-03-05T14:12:35.278561200Z"
    }
   },
   "id": "6a60b92eb072d37"
  },
  {
   "cell_type": "code",
   "execution_count": 18,
   "outputs": [],
   "source": [
    "qc = QuantumCircuit(5)\n",
    "qc.h(0)\n",
    "qc.cx(0, range(1, 5))\n",
    "qc.measure_all()"
   ],
   "metadata": {
    "collapsed": false,
    "ExecuteTime": {
     "end_time": "2024-03-05T14:12:35.302560800Z",
     "start_time": "2024-03-05T14:12:35.298561100Z"
    }
   },
   "id": "4d319bfa2f1424de"
  }
 ],
 "metadata": {
  "kernelspec": {
   "display_name": "Python 3",
   "language": "python",
   "name": "python3"
  },
  "language_info": {
   "codemirror_mode": {
    "name": "ipython",
    "version": 2
   },
   "file_extension": ".py",
   "mimetype": "text/x-python",
   "name": "python",
   "nbconvert_exporter": "python",
   "pygments_lexer": "ipython2",
   "version": "2.7.6"
  }
 },
 "nbformat": 4,
 "nbformat_minor": 5
}
